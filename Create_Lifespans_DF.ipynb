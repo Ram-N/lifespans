{
 "cells": [
  {
   "cell_type": "markdown",
   "metadata": {},
   "source": [
    "# Create LifeSpans Data Frame\n",
    "\n",
    "Updated: 2021-12-28\n",
    "\n",
    "\n",
    "- Write a function to add DETAILS to any given person.\n",
    "- Example: Find Tipu Sultan and add \"East India Company\" in details.\n",
    "\n",
    "- For each economist, find their OCCUP, INDUSTRY and DOMAIN.\n",
    "For each econ, find the COUNTRYNAME and add it.\n",
    "\n",
    "\n",
    "\n",
    "## Things to Do\n",
    "\n",
    "1. Get a large list of data items. (People, events etc.)\n",
    "2. Keep growing one \"master dataframe\" - save it to CSV with data_stamp.\n",
    "3. Pick two (or more) and plot them comparitively\n",
    "4. Given a time period, list all eligible events/people.\n",
    "5. Given a field, get all relevant people.\n",
    "\n",
    "\n",
    "### Output\n",
    "\n",
    "**df_main**\n",
    "\n",
    "**Columns**\n",
    "\n",
    "```\n",
    "ID_str\n",
    "record_type: SE, SE_with_Activity, Event (single point), Duration\n",
    "name\n",
    "nickname\n",
    "start_date # mostly DOB\n",
    "end_date #often year/date of death\n",
    "active_start\n",
    "active_end # time when active period ended\n",
    "countryName\n",
    "occupation #  POLITICIAN\n",
    "industry   # GOVERNMENT\n",
    "domain      \n",
    "notes # [list of keywords, phrases]\n",
    "padding # 10 years default. Specify here if it should be different\n",
    "source # filename, if CSV/JSON\n",
    "\n",
    "##DERIVED\n",
    "YrB\n",
    "YrD\n",
    "YrAS\n",
    "YrAE\n",
    "\n",
    "```\n",
    "\n"
   ]
  },
  {
   "cell_type": "markdown",
   "metadata": {},
   "source": [
    "------\n",
    "# Get from CSV/JSON Sources\n",
    "\n",
    "1. US Presidents\n",
    "\n",
    "### Save as CSV"
   ]
  },
  {
   "cell_type": "code",
   "execution_count": 1,
   "metadata": {},
   "outputs": [],
   "source": [
    "import os\n",
    "import pandas as pd\n",
    "import re\n",
    "import numpy as np\n",
    "import wikipedia\n",
    "import wptools"
   ]
  },
  {
   "cell_type": "markdown",
   "metadata": {},
   "source": [
    "### POSSIBLE RECORD TYPES\n",
    "\n",
    "SE, Active_SE, Event"
   ]
  },
  {
   "cell_type": "code",
   "execution_count": 2,
   "metadata": {},
   "outputs": [],
   "source": [
    "def convert_presidents_to_dfmain_format():\n",
    "    pres = pd.read_json('data/US_Presidents.json')    \n",
    "\n",
    "    pres.rename(columns={'president':'name'}, inplace=True)\n",
    "    pres['end_date'] = pd.to_datetime(pres['death_year'], format='%Y')\n",
    "    pres['start_date'] = pd.to_datetime(pres['birth_year'], format='%Y')\n",
    "    pres['active_start'] = pd.to_datetime(pres['took_office'])\n",
    "    pres['active_end'] = pd.to_datetime(pres['left_office'])\n",
    "    pres['details'] = pres['number'].astype(str) + \",\" + pres['party']\n",
    "    \n",
    "\n",
    "    pres[\"occupation\"] = \"Politician\"\n",
    "    pres[\"industry\"] = \"Government\"\n",
    "    pres[\"domain\"] = \"Institutions\"\n",
    "    \n",
    "    pres['countryName'] = \"USA\"\n",
    "    \n",
    "    pres['record_type'] = 'Active_SE' #active start and end\n",
    "    useful_cols = ['record_type', 'name', 'start_date', 'end_date', 'active_start', 'active_end', \n",
    "                   'details', 'occupation', 'industry', 'domain', 'countryName']\n",
    "\n",
    "    \n",
    "    return pres[useful_cols]\n",
    "    \n"
   ]
  },
  {
   "cell_type": "markdown",
   "metadata": {},
   "source": [
    "# Creation of Base Files\n",
    "\n",
    "\n",
    "## BHHS\n",
    "\n",
    "## Presidents\n",
    "## Economists"
   ]
  },
  {
   "cell_type": "code",
   "execution_count": 3,
   "metadata": {},
   "outputs": [],
   "source": [
    "df_main = pd.DataFrame()\n",
    "\n",
    "PRESIDENTS = True\n",
    "\n",
    "if PRESIDENTS:\n",
    "    df_pres = convert_presidents_to_dfmain_format()\n",
    "    df_main = df_main.append(df_pres)\n"
   ]
  },
  {
   "cell_type": "code",
   "execution_count": 5,
   "metadata": {},
   "outputs": [
    {
     "data": {
      "text/plain": [
       "(100473, 46)"
      ]
     },
     "execution_count": 5,
     "metadata": {},
     "output_type": "execute_result"
    }
   ],
   "source": [
    "bhht = pd.read_csv('data/bhht-100k-sample.csv', encoding = \"ISO-8859-1\")\n",
    "bhht.shape"
   ]
  },
  {
   "cell_type": "code",
   "execution_count": 21,
   "metadata": {},
   "outputs": [
    {
     "data": {
      "text/plain": [
       "12658    Humayun_Faridi\n",
       "56856       Humayon_Dar\n",
       "Name: name, dtype: object"
      ]
     },
     "execution_count": 21,
     "metadata": {},
     "output_type": "execute_result"
    }
   ],
   "source": [
    "rows = bhht['name'].str.contains('Humay')\n",
    "bhht[rows]['name']"
   ]
  },
  {
   "cell_type": "code",
   "execution_count": 12,
   "metadata": {},
   "outputs": [
    {
     "data": {
      "text/plain": [
       "(11341, 23)"
      ]
     },
     "execution_count": 12,
     "metadata": {},
     "output_type": "execute_result"
    }
   ],
   "source": [
    "pantheon = pd.read_csv('data/pantheon.tsv', sep='\\t')\n",
    "pantheon.shape"
   ]
  },
  {
   "cell_type": "code",
   "execution_count": 74,
   "metadata": {},
   "outputs": [],
   "source": [
    "def get_field_from_pantheon(pname, field, pantheon=pantheon):\n",
    "    row = pantheon['name'].str.contains(pname)\n",
    "    \n",
    "    num_matches = row.sum()\n",
    "    \n",
    "    if(num_matches == 1):\n",
    "        #print(pantheon[row][field], type(pantheon[row][field]))\n",
    "        new_field = pantheon[row][field].values\n",
    "        return new_field[0]\n",
    "    else:\n",
    "        print(f'{pname} matches {num_matches} Please be more specific')\n",
    "        return None"
   ]
  },
  {
   "cell_type": "markdown",
   "metadata": {},
   "source": [
    "# READ ECONOMISTS DATA"
   ]
  },
  {
   "cell_type": "code",
   "execution_count": 75,
   "metadata": {},
   "outputs": [
    {
     "name": "stdout",
     "output_type": "stream",
     "text": [
      "C:\\Users\\ramna\\PyLibrary\\Lifespans\n"
     ]
    },
    {
     "data": {
      "text/plain": [
       "['adds1548_1554.csv',\n",
       " 'celebrity_deaths_4.csv',\n",
       " 'df_main.csv',\n",
       " 'economists_lifetimes.csv',\n",
       " 'list_of_presidents_of_france-836j.csv',\n",
       " 'list_of_prime_ministers_of_uk-839j.csv',\n",
       " 'pageviews_2008-2013.tsv',\n",
       " 'pantheon.tsv',\n",
       " 'philosophers.csv',\n",
       " 'README.md',\n",
       " 'US_Presidents.json',\n",
       " 'wikilangs.tsv']"
      ]
     },
     "execution_count": 75,
     "metadata": {},
     "output_type": "execute_result"
    }
   ],
   "source": [
    "print(os.getcwd())\n",
    "os.listdir('data')"
   ]
  },
  {
   "cell_type": "code",
   "execution_count": 76,
   "metadata": {},
   "outputs": [],
   "source": [
    "df = pd.read_csv('data/economists_lifetimes.csv')"
   ]
  },
  {
   "cell_type": "code",
   "execution_count": 77,
   "metadata": {},
   "outputs": [
    {
     "data": {
      "text/plain": [
       "Index(['record_type', 'name', 'start_date', 'end_date', 'active_start',\n",
       "       'active_end', 'details', 'occupation', 'industry', 'domain',\n",
       "       'countryName'],\n",
       "      dtype='object')"
      ]
     },
     "execution_count": 77,
     "metadata": {},
     "output_type": "execute_result"
    }
   ],
   "source": [
    "df_main.columns"
   ]
  },
  {
   "cell_type": "code",
   "execution_count": 78,
   "metadata": {},
   "outputs": [],
   "source": [
    "df.rename(columns={'entity':'name', 'birth_year':'start_date', 'death_year':'end_date'}, inplace=True)\n",
    "df['record_type'] = 'SE' #active start and end\n",
    "\n",
    "df[\"occupation\"] = \"Economist\"\n",
    "df[\"industry\"] = \"Social Sciences\"\n",
    "df[\"domain\"] = \"Science & Technology\""
   ]
  },
  {
   "cell_type": "code",
   "execution_count": 89,
   "metadata": {},
   "outputs": [
    {
     "name": "stdout",
     "output_type": "stream",
     "text": [
      "Milton Freedman matches 0 Please be more specific\n",
      "Irving Fisher matches 0 Please be more specific\n",
      "John Bates Clark matches 0 Please be more specific\n",
      "Thomas Malthus  matches 0 Please be more specific\n",
      "Arthur Pigou matches 0 Please be more specific\n",
      "['UNITED KINGDOM', 'Germany', 'UNITED KINGDOM', 'AUSTRIA', None, 'United Kingdom', None, None, 'United States', 'UNITED STATES', 'UNITED STATES', 'SAINT LUCIA', None, 'United Kingdom', 'UNITED KINGDOM', None]\n"
     ]
    }
   ],
   "source": [
    "countries = []\n",
    "for index, row in df.iterrows():\n",
    "    #name = row['name']\n",
    "    name = row['name']\n",
    "    country = get_field_from_pantheon(name, field='countryName')\n",
    "    countries.append(country)\n",
    "\n",
    "print(countries)\n",
    "\n",
    "df['countryName'] = countries\n"
   ]
  },
  {
   "cell_type": "code",
   "execution_count": 90,
   "metadata": {},
   "outputs": [],
   "source": [
    "econ_useful_cols = ['record_type', 'name', 'start_date', 'end_date', \n",
    "                    'details', 'occupation', 'industry', 'domain', 'countryName']\n",
    "df= df[econ_useful_cols]"
   ]
  },
  {
   "cell_type": "markdown",
   "metadata": {},
   "source": [
    "===== End of Processing ECONOMISTS "
   ]
  },
  {
   "cell_type": "code",
   "execution_count": null,
   "metadata": {},
   "outputs": [],
   "source": []
  },
  {
   "cell_type": "code",
   "execution_count": 94,
   "metadata": {},
   "outputs": [
    {
     "data": {
      "text/plain": [
       "(78, 11)"
      ]
     },
     "execution_count": 94,
     "metadata": {},
     "output_type": "execute_result"
    }
   ],
   "source": [
    "df_main = df_main.append(df, sort=False)\n",
    "\n",
    "df_main.shape"
   ]
  },
  {
   "cell_type": "code",
   "execution_count": 95,
   "metadata": {},
   "outputs": [
    {
     "data": {
      "text/plain": [
       "(Index(['active_end', 'active_start', 'countryName', 'details', 'domain',\n",
       "        'end_date', 'industry', 'name', 'occupation', 'record_type',\n",
       "        'start_date'],\n",
       "       dtype='object'),\n",
       " Index(['record_type', 'name', 'start_date', 'end_date', 'details',\n",
       "        'occupation', 'industry', 'domain', 'countryName'],\n",
       "       dtype='object'))"
      ]
     },
     "execution_count": 95,
     "metadata": {},
     "output_type": "execute_result"
    }
   ],
   "source": [
    "df_main.columns, df.columns"
   ]
  },
  {
   "cell_type": "code",
   "execution_count": 96,
   "metadata": {},
   "outputs": [
    {
     "data": {
      "text/html": [
       "<div>\n",
       "<style scoped>\n",
       "    .dataframe tbody tr th:only-of-type {\n",
       "        vertical-align: middle;\n",
       "    }\n",
       "\n",
       "    .dataframe tbody tr th {\n",
       "        vertical-align: top;\n",
       "    }\n",
       "\n",
       "    .dataframe thead th {\n",
       "        text-align: right;\n",
       "    }\n",
       "</style>\n",
       "<table border=\"1\" class=\"dataframe\">\n",
       "  <thead>\n",
       "    <tr style=\"text-align: right;\">\n",
       "      <th></th>\n",
       "      <th>active_end</th>\n",
       "      <th>active_start</th>\n",
       "      <th>countryName</th>\n",
       "      <th>details</th>\n",
       "      <th>domain</th>\n",
       "      <th>end_date</th>\n",
       "      <th>industry</th>\n",
       "      <th>name</th>\n",
       "      <th>occupation</th>\n",
       "      <th>record_type</th>\n",
       "      <th>start_date</th>\n",
       "    </tr>\n",
       "  </thead>\n",
       "  <tbody>\n",
       "    <tr>\n",
       "      <td>0</td>\n",
       "      <td>1797-03-04</td>\n",
       "      <td>1789-04-30</td>\n",
       "      <td>USA</td>\n",
       "      <td>1,No Party</td>\n",
       "      <td>Institutions</td>\n",
       "      <td>1799-01-01 00:00:00</td>\n",
       "      <td>Government</td>\n",
       "      <td>George Washington</td>\n",
       "      <td>Politician</td>\n",
       "      <td>Active_SE</td>\n",
       "      <td>1732-01-01 00:00:00</td>\n",
       "    </tr>\n",
       "    <tr>\n",
       "      <td>1</td>\n",
       "      <td>1801-03-04</td>\n",
       "      <td>1797-03-04</td>\n",
       "      <td>USA</td>\n",
       "      <td>2,Federalist</td>\n",
       "      <td>Institutions</td>\n",
       "      <td>1826-01-01 00:00:00</td>\n",
       "      <td>Government</td>\n",
       "      <td>John Adams</td>\n",
       "      <td>Politician</td>\n",
       "      <td>Active_SE</td>\n",
       "      <td>1735-01-01 00:00:00</td>\n",
       "    </tr>\n",
       "    <tr>\n",
       "      <td>2</td>\n",
       "      <td>1809-03-04</td>\n",
       "      <td>1801-03-04</td>\n",
       "      <td>USA</td>\n",
       "      <td>3,Democratic-Republican</td>\n",
       "      <td>Institutions</td>\n",
       "      <td>1826-01-01 00:00:00</td>\n",
       "      <td>Government</td>\n",
       "      <td>Thomas Jefferson</td>\n",
       "      <td>Politician</td>\n",
       "      <td>Active_SE</td>\n",
       "      <td>1743-01-01 00:00:00</td>\n",
       "    </tr>\n",
       "    <tr>\n",
       "      <td>3</td>\n",
       "      <td>1817-03-04</td>\n",
       "      <td>1809-03-04</td>\n",
       "      <td>USA</td>\n",
       "      <td>4,Democratic-Republican</td>\n",
       "      <td>Institutions</td>\n",
       "      <td>1836-01-01 00:00:00</td>\n",
       "      <td>Government</td>\n",
       "      <td>James Madison</td>\n",
       "      <td>Politician</td>\n",
       "      <td>Active_SE</td>\n",
       "      <td>1751-01-01 00:00:00</td>\n",
       "    </tr>\n",
       "    <tr>\n",
       "      <td>4</td>\n",
       "      <td>1825-03-04</td>\n",
       "      <td>1817-03-04</td>\n",
       "      <td>USA</td>\n",
       "      <td>5,Democratic-Republican</td>\n",
       "      <td>Institutions</td>\n",
       "      <td>1831-01-01 00:00:00</td>\n",
       "      <td>Government</td>\n",
       "      <td>James Monroe</td>\n",
       "      <td>Politician</td>\n",
       "      <td>Active_SE</td>\n",
       "      <td>1758-01-01 00:00:00</td>\n",
       "    </tr>\n",
       "    <tr>\n",
       "      <td>...</td>\n",
       "      <td>...</td>\n",
       "      <td>...</td>\n",
       "      <td>...</td>\n",
       "      <td>...</td>\n",
       "      <td>...</td>\n",
       "      <td>...</td>\n",
       "      <td>...</td>\n",
       "      <td>...</td>\n",
       "      <td>...</td>\n",
       "      <td>...</td>\n",
       "      <td>...</td>\n",
       "    </tr>\n",
       "    <tr>\n",
       "      <td>11</td>\n",
       "      <td>NaT</td>\n",
       "      <td>NaT</td>\n",
       "      <td>SAINT LUCIA</td>\n",
       "      <td>Movement of money in Ghana, Nobel prize for de...</td>\n",
       "      <td>Science &amp; Technology</td>\n",
       "      <td>1991</td>\n",
       "      <td>Social Sciences</td>\n",
       "      <td>Arthur Lewis</td>\n",
       "      <td>Economist</td>\n",
       "      <td>SE</td>\n",
       "      <td>1915</td>\n",
       "    </tr>\n",
       "    <tr>\n",
       "      <td>12</td>\n",
       "      <td>NaT</td>\n",
       "      <td>NaT</td>\n",
       "      <td>None</td>\n",
       "      <td>Principles of population, population growth, f...</td>\n",
       "      <td>Science &amp; Technology</td>\n",
       "      <td>1834</td>\n",
       "      <td>Social Sciences</td>\n",
       "      <td>Thomas Malthus</td>\n",
       "      <td>Economist</td>\n",
       "      <td>SE</td>\n",
       "      <td>1766</td>\n",
       "    </tr>\n",
       "    <tr>\n",
       "      <td>13</td>\n",
       "      <td>NaT</td>\n",
       "      <td>NaT</td>\n",
       "      <td>United Kingdom</td>\n",
       "      <td>Classical liberalism, theory of liberty</td>\n",
       "      <td>Science &amp; Technology</td>\n",
       "      <td>1873</td>\n",
       "      <td>Social Sciences</td>\n",
       "      <td>John Stuart Mill</td>\n",
       "      <td>Economist</td>\n",
       "      <td>SE</td>\n",
       "      <td>1806</td>\n",
       "    </tr>\n",
       "    <tr>\n",
       "      <td>14</td>\n",
       "      <td>NaT</td>\n",
       "      <td>NaT</td>\n",
       "      <td>UNITED KINGDOM</td>\n",
       "      <td>The concept of economic rent comparative advan...</td>\n",
       "      <td>Science &amp; Technology</td>\n",
       "      <td>1823</td>\n",
       "      <td>Social Sciences</td>\n",
       "      <td>David Ricardo</td>\n",
       "      <td>Economist</td>\n",
       "      <td>SE</td>\n",
       "      <td>1772</td>\n",
       "    </tr>\n",
       "    <tr>\n",
       "      <td>15</td>\n",
       "      <td>NaT</td>\n",
       "      <td>NaT</td>\n",
       "      <td>None</td>\n",
       "      <td>The concept of externality</td>\n",
       "      <td>Science &amp; Technology</td>\n",
       "      <td>1959</td>\n",
       "      <td>Social Sciences</td>\n",
       "      <td>Arthur Pigou</td>\n",
       "      <td>Economist</td>\n",
       "      <td>SE</td>\n",
       "      <td>1877</td>\n",
       "    </tr>\n",
       "  </tbody>\n",
       "</table>\n",
       "<p>78 rows × 11 columns</p>\n",
       "</div>"
      ],
      "text/plain": [
       "   active_end active_start     countryName  \\\n",
       "0  1797-03-04   1789-04-30             USA   \n",
       "1  1801-03-04   1797-03-04             USA   \n",
       "2  1809-03-04   1801-03-04             USA   \n",
       "3  1817-03-04   1809-03-04             USA   \n",
       "4  1825-03-04   1817-03-04             USA   \n",
       "..        ...          ...             ...   \n",
       "11        NaT          NaT     SAINT LUCIA   \n",
       "12        NaT          NaT            None   \n",
       "13        NaT          NaT  United Kingdom   \n",
       "14        NaT          NaT  UNITED KINGDOM   \n",
       "15        NaT          NaT            None   \n",
       "\n",
       "                                              details                domain  \\\n",
       "0                                          1,No Party          Institutions   \n",
       "1                                        2,Federalist          Institutions   \n",
       "2                             3,Democratic-Republican          Institutions   \n",
       "3                             4,Democratic-Republican          Institutions   \n",
       "4                             5,Democratic-Republican          Institutions   \n",
       "..                                                ...                   ...   \n",
       "11  Movement of money in Ghana, Nobel prize for de...  Science & Technology   \n",
       "12  Principles of population, population growth, f...  Science & Technology   \n",
       "13            Classical liberalism, theory of liberty  Science & Technology   \n",
       "14  The concept of economic rent comparative advan...  Science & Technology   \n",
       "15                         The concept of externality  Science & Technology   \n",
       "\n",
       "               end_date         industry               name  occupation  \\\n",
       "0   1799-01-01 00:00:00       Government  George Washington  Politician   \n",
       "1   1826-01-01 00:00:00       Government         John Adams  Politician   \n",
       "2   1826-01-01 00:00:00       Government   Thomas Jefferson  Politician   \n",
       "3   1836-01-01 00:00:00       Government      James Madison  Politician   \n",
       "4   1831-01-01 00:00:00       Government       James Monroe  Politician   \n",
       "..                  ...              ...                ...         ...   \n",
       "11                 1991  Social Sciences       Arthur Lewis   Economist   \n",
       "12                 1834  Social Sciences    Thomas Malthus    Economist   \n",
       "13                 1873  Social Sciences   John Stuart Mill   Economist   \n",
       "14                 1823  Social Sciences      David Ricardo   Economist   \n",
       "15                 1959  Social Sciences       Arthur Pigou   Economist   \n",
       "\n",
       "   record_type           start_date  \n",
       "0    Active_SE  1732-01-01 00:00:00  \n",
       "1    Active_SE  1735-01-01 00:00:00  \n",
       "2    Active_SE  1743-01-01 00:00:00  \n",
       "3    Active_SE  1751-01-01 00:00:00  \n",
       "4    Active_SE  1758-01-01 00:00:00  \n",
       "..         ...                  ...  \n",
       "11          SE                 1915  \n",
       "12          SE                 1766  \n",
       "13          SE                 1806  \n",
       "14          SE                 1772  \n",
       "15          SE                 1877  \n",
       "\n",
       "[78 rows x 11 columns]"
      ]
     },
     "execution_count": 96,
     "metadata": {},
     "output_type": "execute_result"
    }
   ],
   "source": [
    "df_main"
   ]
  },
  {
   "cell_type": "code",
   "execution_count": 97,
   "metadata": {},
   "outputs": [],
   "source": [
    "df_main.to_csv('data/df_main.csv', index=False)"
   ]
  },
  {
   "cell_type": "markdown",
   "metadata": {},
   "source": [
    "\n",
    "+++++++\n",
    "\n",
    "# WIKIPEDIA PANTHEON. 11000 Persons\n"
   ]
  },
  {
   "cell_type": "code",
   "execution_count": 22,
   "metadata": {},
   "outputs": [
    {
     "data": {
      "text/plain": [
       "(11341, 23)"
      ]
     },
     "execution_count": 22,
     "metadata": {},
     "output_type": "execute_result"
    }
   ],
   "source": [
    "df = pd.read_csv('data/pantheon.tsv', sep='\\t')\n",
    "df.shape"
   ]
  },
  {
   "cell_type": "code",
   "execution_count": 4,
   "metadata": {},
   "outputs": [
    {
     "data": {
      "text/plain": [
       "en_curid                           307\n",
       "name                   Abraham Lincoln\n",
       "numlangs                           131\n",
       "birthcity                  Hodgenville\n",
       "birthstate                          KY\n",
       "countryName              UNITED STATES\n",
       "countryCode                         US\n",
       "countryCode3                       USA\n",
       "LAT                            37.5711\n",
       "LON                           -85.7386\n",
       "continentName            North America\n",
       "birthyear                         1809\n",
       "gender                            Male\n",
       "occupation                  POLITICIAN\n",
       "industry                    GOVERNMENT\n",
       "domain                    INSTITUTIONS\n",
       "TotalPageViews                66145211\n",
       "L_star                         5.80139\n",
       "StdDevPageViews                 586915\n",
       "PageViewsEnglish              41477236\n",
       "PageViewsNonEnglish           24667975\n",
       "AverageViews                    504925\n",
       "HPI                            27.9386\n",
       "Name: 0, dtype: object"
      ]
     },
     "execution_count": 4,
     "metadata": {},
     "output_type": "execute_result"
    }
   ],
   "source": [
    "df.loc[0]"
   ]
  }
 ],
 "metadata": {
  "kernelspec": {
   "display_name": "Python 3",
   "language": "python",
   "name": "python3"
  },
  "language_info": {
   "codemirror_mode": {
    "name": "ipython",
    "version": 3
   },
   "file_extension": ".py",
   "mimetype": "text/x-python",
   "name": "python",
   "nbconvert_exporter": "python",
   "pygments_lexer": "ipython3",
   "version": "3.7.4"
  }
 },
 "nbformat": 4,
 "nbformat_minor": 4
}
