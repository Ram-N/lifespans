{
 "cells": [
  {
   "cell_type": "code",
   "execution_count": 34,
   "metadata": {},
   "outputs": [],
   "source": [
    "import matplotlib.pyplot as plt\n",
    "from matplotlib.dates import DateFormatter\n",
    "import numpy as np\n",
    "import datetime as dt\n",
    "import pandas as pd\n",
    "\n",
    "import random\n",
    "import datetime as dt\n",
    "\n",
    "import matplotlib.dates as mdates\n",
    "\n",
    "import os"
   ]
  },
  {
   "cell_type": "code",
   "execution_count": null,
   "metadata": {},
   "outputs": [],
   "source": []
  },
  {
   "cell_type": "code",
   "execution_count": 2,
   "metadata": {},
   "outputs": [
    {
     "name": "stdout",
     "output_type": "stream",
     "text": [
      "['adds1548_1554.csv']\n"
     ]
    }
   ],
   "source": [
    "files = [x for x in os.listdir('data') if 'adds' in x]\n",
    "print(files)"
   ]
  },
  {
   "cell_type": "code",
   "execution_count": 3,
   "metadata": {},
   "outputs": [
    {
     "name": "stdout",
     "output_type": "stream",
     "text": [
      "WkData_DY\n"
     ]
    }
   ],
   "source": [
    "df = pd.read_csv(f'data/{files[0]}')\n",
    "\n",
    "cols = ['WkData_DY']\n",
    "for c in cols:\n",
    "    print(c)\n",
    "    df[c] = df[c].astype(int, errors='ignore')\n",
    "    "
   ]
  },
  {
   "cell_type": "code",
   "execution_count": 4,
   "metadata": {},
   "outputs": [
    {
     "data": {
      "text/plain": [
       "name          object\n",
       "BY             int64\n",
       "Summ          object\n",
       "Summ_DY      float64\n",
       "Wikidata      object\n",
       "WkData_DY    float64\n",
       "Struct_DY     object\n",
       "dtype: object"
      ]
     },
     "execution_count": 4,
     "metadata": {},
     "output_type": "execute_result"
    }
   ],
   "source": [
    "df.dtypes"
   ]
  },
  {
   "cell_type": "code",
   "execution_count": 12,
   "metadata": {},
   "outputs": [],
   "source": [
    "    \n",
    "    "
   ]
  },
  {
   "cell_type": "code",
   "execution_count": 85,
   "metadata": {},
   "outputs": [],
   "source": [
    "#Converts str into a datetime object.\n",
    "conv = lambda s: dt.datetime.strptime(s, '%Y')\n",
    "dtconv = lambda x: conv(str(int(x)))\n"
   ]
  },
  {
   "cell_type": "code",
   "execution_count": 93,
   "metadata": {},
   "outputs": [
    {
     "name": "stdout",
     "output_type": "stream",
     "text": [
      "1772-01-01 00:00:00 1823-01-01 00:00:00\n"
     ]
    },
    {
     "data": {
      "text/plain": [
       "(Timestamp('1772-01-01 00:00:00'), Timestamp('1823-01-01 00:00:00'))"
      ]
     },
     "execution_count": 93,
     "metadata": {},
     "output_type": "execute_result"
    }
   ],
   "source": [
    "get_dt_start_end(df_main, 60)"
   ]
  },
  {
   "cell_type": "code",
   "execution_count": 91,
   "metadata": {},
   "outputs": [
    {
     "data": {
      "image/png": "[encoded data removed]",
      "text/plain": [
       "<Figure size 432x288 with 1 Axes>"
      ]
     },
     "metadata": {
      "needs_background": "light"
     },
     "output_type": "display_data"
    }
   ],
   "source": [
    "start_col = \"birth_year\"\n",
    "end_col = \"death_year\"\n",
    "\n",
    "p1_start = dtconv(df.loc[1][start_col])\n",
    "p1_end = dtconv(df.loc[1][end_col])\n",
    "p2_start = dtconv(df.loc[3][start_col])\n",
    "p2_end = dtconv(df.loc[3][end_col])\n",
    "\n",
    "\n",
    "\n",
    "timelines(1, p1_start, p1_end, 'k')\n",
    "timelines(1.5, p2_start, p2_end, 'r')\n",
    "\n",
    "ps, pe = get_start_end(40)\n",
    "timelines(2, ps, pe, 'blue')\n",
    "\n",
    "\n",
    "#Setup the plot\n",
    "ax = plt.gca()\n",
    "ax.xaxis_date()\n",
    "myFmt = DateFormatter('%Y')\n",
    "ax.xaxis.set_major_formatter(myFmt)\n",
    "\n"
   ]
  },
  {
   "cell_type": "code",
   "execution_count": 92,
   "metadata": {},
   "outputs": [],
   "source": [
    "\n",
    "\n",
    "def get_dt_start_end(df, rowNumber):\n",
    "    \n",
    "    dts = pd.to_datetime(df.loc[rowNumber][start_col])\n",
    "    dte = pd.to_datetime(df.loc[rowNumber][end_col])\n",
    "    print(dts, dte)\n",
    "#    dt_start = dtconv(df.loc[rowNumber][start_col])\n",
    "#     dt_end = dtconv(df.loc[rowNumber][end_col])\n",
    "    return(dts, dte)\n",
    "\n",
    "\n"
   ]
  },
  {
   "cell_type": "code",
   "execution_count": 5,
   "metadata": {},
   "outputs": [
    {
     "data": {
      "text/plain": [
       "Index(['active_end', 'active_start', 'countryName', 'details', 'domain',\n",
       "       'end_date', 'industry', 'name', 'occupation', 'record_type',\n",
       "       'start_date'],\n",
       "      dtype='object')"
      ]
     },
     "execution_count": 5,
     "metadata": {},
     "output_type": "execute_result"
    }
   ],
   "source": [
    "df_main = pd.read_csv('data/df_main.csv')\n",
    "\n",
    "df_main.columns"
   ]
  },
  {
   "cell_type": "code",
   "execution_count": 114,
   "metadata": {},
   "outputs": [],
   "source": [
    "start_col = \"start_date\"\n",
    "end_col = \"end_date\"\n",
    "y_poi = 2\n",
    "numP=3\n",
    "\n",
    "\n",
    "from pandas.plotting import register_matplotlib_converters\n",
    "register_matplotlib_converters()\n",
    "\n",
    "#STUB\n",
    "def get_comtemporaries(ploc):\n",
    "    max_num = df_main.shape[0]\n",
    "\n",
    "    done = 0\n",
    "    while not done:\n",
    "        a = random.randint(0, max_num-1)\n",
    "        b = random.randint(0, max_num-1)\n",
    "        if(a != b):\n",
    "            done = 1\n",
    "    return([a, b])\n",
    "\n",
    "def get_poi_start_end(pLoc):\n",
    "    p_start = df_main.loc[pLoc][start_col]\n",
    "    p_end = df_main.loc[pLoc][end_col]\n",
    "    return(p_start, p_end);\n",
    "\n",
    "\n",
    "def get_active_start_end(pLoc):\n",
    "    if df_main['record_type'][pLoc] == 'Active_SE':\n",
    "        p_start = df_main.loc[pLoc]['active_start']\n",
    "        p_end = df_main.loc[pLoc]['active_end']\n",
    "        return(p_start, p_end);\n",
    "    return NaT, NaT\n",
    "\n",
    "\n",
    "#Plot function\n",
    "def timelines(y, yrstart, yrstop, color='b', lw=4):\n",
    "    \"\"\"Plot timelines at y from yrstart to yrstop with given color.\"\"\"   \n",
    "    plt.hlines(y, yrstart, yrstop, color, lw=lw)\n",
    "    plt.vlines(yrstart, y+0.03, y-0.03, color, lw=2)\n",
    "    plt.vlines(yrstop, y+0.03, y-0.03, color, lw=2)\n",
    "\n",
    "def single_poi_plot(df_main, ploc):\n",
    "    \n",
    "    #Setup the plot\n",
    "    fig, ax = plt.subplots(figsize=(15, 5))\n",
    "    ax = plt.gca()\n",
    "    ax.xaxis_date()\n",
    "    myFmt = DateFormatter('%Y')\n",
    "    ax.xaxis.set_major_formatter(myFmt)\n",
    "    \n",
    "    text_style = dict(size=14, color='black')\n",
    "\n",
    "    ps, pe = get_poi_start_end(ploc)\n",
    "    print(ps, type(ps))\n",
    "    \n",
    "    \n",
    "    \n",
    "    #PLOTTING POI \n",
    "    timelines(y_poi, ps, pe, 'blue', lw=8)\n",
    "    ax.text(ps, y_poi+0.2, df_main['name'][ploc], ha='left', **text_style)\n",
    "    \n",
    "    if(df_main['record_type'][ploc] == 'Active_SE'):\n",
    "        pas, pae = get_active_start_end(ploc)\n",
    "        timelines(y_poi, pas, pae, 'red', lw=10)\n",
    "    \n",
    "    \n",
    "    #PLOTTING CONTEMPORARIES \n",
    "    contemporaries = get_comtemporaries(ploc)\n",
    "    for y_idx, c in enumerate(contemporaries):\n",
    "        ps, pe = get_poi_start_end(c)\n",
    "        yLevel = y_poi + y_idx + 1\n",
    "        timelines(yLevel, ps, pe, 'black')\n",
    "        ax.text(ps, yLevel+0.1, df_main['name'][c], ha='left', **text_style)\n",
    "\n",
    "    # Turn off tick labels\n",
    "    ax.set_yticklabels([])\n",
    "    ax.set_yticks([])\n",
    "    ax.set_ylim(0, numP+3)\n",
    "    \n",
    "\n",
    "    draw_vertical_gridlines(df_main, ploc)\n",
    "    \n",
    "def draw_vertical_gridlines(df_main, ploc):\n",
    "        \n",
    "    \n",
    "    dts, dte = get_dt_start_end(df_main, ploc)\n",
    "    \n",
    "    print(dts.year, dte.year)\n",
    "    earliest_vline = round((dts.year - 50)/100) *100\n",
    "    last_vline = round((dte.year + 50)/100) * 100\n",
    "    #print('early', earliest_vline, 'last', last_vline)\n",
    "    \n",
    "    for t in range(earliest_vline, last_vline+1, 100):\n",
    "        plt.axvline(dt.datetime(t, 1, 1))\n",
    "        "
   ]
  },
  {
   "cell_type": "code",
   "execution_count": 123,
   "metadata": {},
   "outputs": [
    {
     "name": "stdout",
     "output_type": "stream",
     "text": [
      "1822-01-01 00:00:00 <class 'str'>\n",
      "1822-01-01 00:00:00 1893-01-01 00:00:00\n",
      "1822 1893\n",
      "early 1800 last 1900\n"
     ]
    },
    {
     "data": {
      "image/png": "[encoded data removed]",
      "text/plain": [
       "<Figure size 1080x360 with 1 Axes>"
      ]
     },
     "metadata": {
      "needs_background": "light"
     },
     "output_type": "display_data"
    }
   ],
   "source": [
    "pLoc = random.randint(0, df_main.shape[0])\n",
    "single_poi_plot(df_main, pLoc)\n"
   ]
  },
  {
   "cell_type": "markdown",
   "metadata": {},
   "source": [
    "# Single Person of Interest\n",
    "\n",
    "1. Add titles to plots\n",
    "1.  Pick contemporaries\n",
    "    Get maximum overlap in terms of years alive/years active.\n",
    "2. Get 10 years on either side padding. (10 configurable)\n",
    "5. Center the POI timeline\n",
    "2. Add triangles to denote start/end years and label them\n",
    "\n",
    "\n",
    "\n",
    "DONE\n",
    "2. Add some vertical guidelines\n",
    "1. A special color and thickness for POI\n",
    "7. Pick two random contemporaries.\n",
    "4. Annotation\n",
    "6. Active Years. (Another special color)\n"
   ]
  },
  {
   "cell_type": "code",
   "execution_count": 22,
   "metadata": {},
   "outputs": [
    {
     "ename": "NameError",
     "evalue": "name 'y' is not defined",
     "output_type": "error",
     "traceback": [
      "\u001b[1;31m---------------------------------------------------------------------------\u001b[0m",
      "\u001b[1;31mNameError\u001b[0m                                 Traceback (most recent call last)",
      "\u001b[1;32m<ipython-input-22-2d3bcffd0e3f>\u001b[0m in \u001b[0;36m<module>\u001b[1;34m\u001b[0m\n\u001b[0;32m      1\u001b[0m \u001b[1;31m#Plot ok tl black\u001b[0m\u001b[1;33m\u001b[0m\u001b[1;33m\u001b[0m\u001b[1;33m\u001b[0m\u001b[0m\n\u001b[1;32m----> 2\u001b[1;33m \u001b[0mtimelines\u001b[0m\u001b[1;33m(\u001b[0m\u001b[0my\u001b[0m\u001b[1;33m[\u001b[0m\u001b[0mis_ok\u001b[0m\u001b[1;33m]\u001b[0m\u001b[1;33m,\u001b[0m \u001b[0mstart\u001b[0m\u001b[1;33m[\u001b[0m\u001b[0mis_ok\u001b[0m\u001b[1;33m]\u001b[0m\u001b[1;33m,\u001b[0m \u001b[0mstop\u001b[0m\u001b[1;33m[\u001b[0m\u001b[0mis_ok\u001b[0m\u001b[1;33m]\u001b[0m\u001b[1;33m,\u001b[0m \u001b[1;34m'k'\u001b[0m\u001b[1;33m)\u001b[0m\u001b[1;33m\u001b[0m\u001b[1;33m\u001b[0m\u001b[0m\n\u001b[0m\u001b[0;32m      3\u001b[0m \u001b[1;31m#Plot fail tl red\u001b[0m\u001b[1;33m\u001b[0m\u001b[1;33m\u001b[0m\u001b[1;33m\u001b[0m\u001b[0m\n\u001b[0;32m      4\u001b[0m \u001b[0mtimelines\u001b[0m\u001b[1;33m(\u001b[0m\u001b[0my\u001b[0m\u001b[1;33m[\u001b[0m\u001b[0mnot_ok\u001b[0m\u001b[1;33m]\u001b[0m\u001b[1;33m,\u001b[0m \u001b[0mstart\u001b[0m\u001b[1;33m[\u001b[0m\u001b[0mnot_ok\u001b[0m\u001b[1;33m]\u001b[0m\u001b[1;33m,\u001b[0m \u001b[0mstop\u001b[0m\u001b[1;33m[\u001b[0m\u001b[0mnot_ok\u001b[0m\u001b[1;33m]\u001b[0m\u001b[1;33m,\u001b[0m \u001b[1;34m'r'\u001b[0m\u001b[1;33m)\u001b[0m\u001b[1;33m\u001b[0m\u001b[1;33m\u001b[0m\u001b[0m\n\u001b[0;32m      5\u001b[0m \u001b[1;33m\u001b[0m\u001b[0m\n",
      "\u001b[1;31mNameError\u001b[0m: name 'y' is not defined"
     ]
    }
   ],
   "source": [
    "    \n",
    "#Plot ok tl black    \n",
    "timelines(y[is_ok], start[is_ok], stop[is_ok], 'k')\n",
    "#Plot fail tl red\n",
    "timelines(y[not_ok], start[not_ok], stop[not_ok], 'r')\n",
    "\n",
    "#Setup the plot\n",
    "ax = plt.gca()\n",
    "ax.xaxis_date()\n",
    "myFmt = DateFormatter('%H:%M:%S')\n",
    "ax.xaxis.set_major_formatter(myFmt)\n",
    "ax.xaxis.set_major_locator(SecondLocator(interval=20)) # used to be SecondLocator(0, interval=20)\n",
    "\n",
    "#To adjust the xlimits a timedelta is needed.\n",
    "delta = (stop.max() - start.min())/10\n",
    "\n",
    "plt.yticks(y[unique_idx], captions)\n",
    "plt.ylim(0,1)\n",
    "plt.xlim(start.min()-delta, stop.max()+delta)\n",
    "plt.xlabel('Time')\n",
    "plt.show()"
   ]
  },
  {
   "cell_type": "code",
   "execution_count": null,
   "metadata": {},
   "outputs": [],
   "source": []
  },
  {
   "cell_type": "code",
   "execution_count": 17,
   "metadata": {},
   "outputs": [
    {
     "data": {
      "text/html": [
       "<div>\n",
       "<style scoped>\n",
       "    .dataframe tbody tr th:only-of-type {\n",
       "        vertical-align: middle;\n",
       "    }\n",
       "\n",
       "    .dataframe tbody tr th {\n",
       "        vertical-align: top;\n",
       "    }\n",
       "\n",
       "    .dataframe thead th {\n",
       "        text-align: right;\n",
       "    }\n",
       "</style>\n",
       "<table border=\"1\" class=\"dataframe\">\n",
       "  <thead>\n",
       "    <tr style=\"text-align: right;\">\n",
       "      <th></th>\n",
       "      <th>name</th>\n",
       "      <th>BY</th>\n",
       "      <th>Summ</th>\n",
       "      <th>Summ_DY</th>\n",
       "      <th>Wikidata</th>\n",
       "      <th>WkData_DY</th>\n",
       "      <th>Struct_DY</th>\n",
       "    </tr>\n",
       "  </thead>\n",
       "  <tbody>\n",
       "    <tr>\n",
       "      <td>0</td>\n",
       "      <td>Edmund Burke</td>\n",
       "      <td>1729</td>\n",
       "      <td>1797</td>\n",
       "      <td>1797.0</td>\n",
       "      <td>1797</td>\n",
       "      <td>1797.0</td>\n",
       "      <td>+1797</td>\n",
       "    </tr>\n",
       "    <tr>\n",
       "      <td>1</td>\n",
       "      <td>Eric Clapton</td>\n",
       "      <td>1945</td>\n",
       "      <td>born 30 March 1945</td>\n",
       "      <td>NaN</td>\n",
       "      <td>death_date not found in infobox</td>\n",
       "      <td>NaN</td>\n",
       "      <td></td>\n",
       "    </tr>\n",
       "    <tr>\n",
       "      <td>2</td>\n",
       "      <td>Epicurus</td>\n",
       "      <td>-341</td>\n",
       "      <td>270</td>\n",
       "      <td>270.0</td>\n",
       "      <td>NaN</td>\n",
       "      <td>NaN</td>\n",
       "      <td>NaN</td>\n",
       "    </tr>\n",
       "    <tr>\n",
       "      <td>3</td>\n",
       "      <td>El Cid</td>\n",
       "      <td>1040</td>\n",
       "      <td></td>\n",
       "      <td>NaN</td>\n",
       "      <td>NaN</td>\n",
       "      <td>NaN</td>\n",
       "      <td>+1098</td>\n",
       "    </tr>\n",
       "    <tr>\n",
       "      <td>4</td>\n",
       "      <td>Ethelred the Unready</td>\n",
       "      <td>968</td>\n",
       "      <td></td>\n",
       "      <td>NaN</td>\n",
       "      <td>NaN</td>\n",
       "      <td>NaN</td>\n",
       "      <td></td>\n",
       "    </tr>\n",
       "  </tbody>\n",
       "</table>\n",
       "</div>"
      ],
      "text/plain": [
       "                   name    BY                Summ  Summ_DY  \\\n",
       "0          Edmund Burke  1729                1797   1797.0   \n",
       "1          Eric Clapton  1945  born 30 March 1945      NaN   \n",
       "2              Epicurus  -341                 270    270.0   \n",
       "3                El Cid  1040                          NaN   \n",
       "4  Ethelred the Unready   968                          NaN   \n",
       "\n",
       "                          Wikidata  WkData_DY Struct_DY  \n",
       "0                             1797     1797.0     +1797  \n",
       "1  death_date not found in infobox        NaN            \n",
       "2                              NaN        NaN       NaN  \n",
       "3                              NaN        NaN     +1098  \n",
       "4                              NaN        NaN            "
      ]
     },
     "execution_count": 17,
     "metadata": {},
     "output_type": "execute_result"
    }
   ],
   "source": [
    "df"
   ]
  },
  {
   "cell_type": "markdown",
   "metadata": {},
   "source": [
    "# Variations to Code\n",
    "\n",
    "1. Pick 2 random contemporaries"
   ]
  },
  {
   "cell_type": "code",
   "execution_count": null,
   "metadata": {},
   "outputs": [],
   "source": []
  }
 ],
 "metadata": {
  "kernelspec": {
   "display_name": "Python 3",
   "language": "python",
   "name": "python3"
  },
  "language_info": {
   "codemirror_mode": {
    "name": "ipython",
    "version": 3
   },
   "file_extension": ".py",
   "mimetype": "text/x-python",
   "name": "python",
   "nbconvert_exporter": "python",
   "pygments_lexer": "ipython3",
   "version": "3.7.4"
  }
 },
 "nbformat": 4,
 "nbformat_minor": 4
}
