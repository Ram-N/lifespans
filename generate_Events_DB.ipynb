{
 "cells": [
  {
   "cell_type": "markdown",
   "metadata": {},
   "source": [
    "# GENERATE NEW EVENTS DB FILE"
   ]
  },
  {
   "cell_type": "code",
   "execution_count": 1,
   "metadata": {},
   "outputs": [],
   "source": [
    "import pandas as pd\n",
    "import numpy as np\n",
    "import json\n",
    "import os\n",
    "import matplotlib.pyplot as plt\n",
    "%matplotlib inline"
   ]
  },
  {
   "cell_type": "code",
   "execution_count": 2,
   "metadata": {},
   "outputs": [
    {
     "data": {
      "text/plain": [
       "['2022-03-13_eventsDB.csv',\n",
       " '2022-03-16_eventsDB.csv',\n",
       " '2022-03-17_eventsDB.csv',\n",
       " 'adds1548_1554.csv',\n",
       " 'backup_eventsDB_.js',\n",
       " 'bkups',\n",
       " 'celebrity_deaths_4.csv',\n",
       " 'df_main.csv',\n",
       " 'economists_lifetimes.csv',\n",
       " 'eventsDB.js',\n",
       " 'eventsDB.test',\n",
       " 'eventsDB_.js',\n",
       " 'eventsWIP.xlsx',\n",
       " 'events_db.csv',\n",
       " 'events_master.csv',\n",
       " 'list_of_presidents_of_france-836j.csv',\n",
       " 'list_of_prime_ministers_of_uk-839j.csv',\n",
       " 'pantheon.tsv',\n",
       " 'philosophers.csv',\n",
       " 'prev_events_master.csv',\n",
       " 'README.md',\n",
       " 'US_Presidents.json',\n",
       " 'world_events.js',\n",
       " 'world_events.json',\n",
       " 'world_events.txt']"
      ]
     },
     "execution_count": 2,
     "metadata": {},
     "output_type": "execute_result"
    }
   ],
   "source": [
    "os.listdir('data')"
   ]
  },
  {
   "cell_type": "code",
   "execution_count": 3,
   "metadata": {
    "scrolled": true
   },
   "outputs": [],
   "source": [
    "master_file = 'data/events_master.csv'\n",
    "df = pd.read_csv(master_file, encoding = \"ISO-8859-1\")\n",
    "df = df.replace(r'^\\s+$', np.nan, regex=True) #get rid of unwanted blank spaces in cells..."
   ]
  },
  {
   "cell_type": "code",
   "execution_count": 4,
   "metadata": {},
   "outputs": [],
   "source": [
    "df['event'] = df['event'].str.strip()\n",
    "#df = df.drop(['Alternatives'], axis=1)"
   ]
  },
  {
   "cell_type": "code",
   "execution_count": 5,
   "metadata": {},
   "outputs": [
    {
     "name": "stdout",
     "output_type": "stream",
     "text": [
      "(215, 29) Index(['eventID', 'stem', 'event', 'details', 'wikipedia', 'mnemonic',\n",
      "       'itemDifficulty', 'categories', 'America', 'Europe', 'Asia', 'Africa',\n",
      "       'China', 'Discovery', 'Britain', 'France', 'Greek', 'India',\n",
      "       'Invention', 'MiddleEast', 'prehistory', 'Religion', 'Roman', 'Royalty',\n",
      "       'Russia', 'Science', 'Wars', 'World', 'YearNum'],\n",
      "      dtype='object')\n"
     ]
    }
   ],
   "source": [
    "print(df.shape, df.columns)"
   ]
  },
  {
   "cell_type": "code",
   "execution_count": 6,
   "metadata": {},
   "outputs": [
    {
     "data": {
      "text/html": [
       "<div>\n",
       "<style scoped>\n",
       "    .dataframe tbody tr th:only-of-type {\n",
       "        vertical-align: middle;\n",
       "    }\n",
       "\n",
       "    .dataframe tbody tr th {\n",
       "        vertical-align: top;\n",
       "    }\n",
       "\n",
       "    .dataframe thead th {\n",
       "        text-align: right;\n",
       "    }\n",
       "</style>\n",
       "<table border=\"1\" class=\"dataframe\">\n",
       "  <thead>\n",
       "    <tr style=\"text-align: right;\">\n",
       "      <th></th>\n",
       "      <th>eventID</th>\n",
       "      <th>stem</th>\n",
       "      <th>event</th>\n",
       "      <th>details</th>\n",
       "      <th>wikipedia</th>\n",
       "      <th>mnemonic</th>\n",
       "      <th>itemDifficulty</th>\n",
       "      <th>categories</th>\n",
       "      <th>America</th>\n",
       "      <th>Europe</th>\n",
       "      <th>...</th>\n",
       "      <th>MiddleEast</th>\n",
       "      <th>prehistory</th>\n",
       "      <th>Religion</th>\n",
       "      <th>Roman</th>\n",
       "      <th>Royalty</th>\n",
       "      <th>Russia</th>\n",
       "      <th>Science</th>\n",
       "      <th>Wars</th>\n",
       "      <th>World</th>\n",
       "      <th>YearNum</th>\n",
       "    </tr>\n",
       "  </thead>\n",
       "  <tbody>\n",
       "    <tr>\n",
       "      <td>60</td>\n",
       "      <td>60</td>\n",
       "      <td>622</td>\n",
       "      <td>Flight of Mohammed from Mecca to Madina.</td>\n",
       "      <td>NaN</td>\n",
       "      <td>NaN</td>\n",
       "      <td>NaN</td>\n",
       "      <td>6</td>\n",
       "      <td>[Islam, ]</td>\n",
       "      <td>NaN</td>\n",
       "      <td>NaN</td>\n",
       "      <td>...</td>\n",
       "      <td>NaN</td>\n",
       "      <td>NaN</td>\n",
       "      <td>1.0</td>\n",
       "      <td>NaN</td>\n",
       "      <td>NaN</td>\n",
       "      <td>NaN</td>\n",
       "      <td>NaN</td>\n",
       "      <td>NaN</td>\n",
       "      <td>NaN</td>\n",
       "      <td>622</td>\n",
       "    </tr>\n",
       "    <tr>\n",
       "      <td>167</td>\n",
       "      <td>167</td>\n",
       "      <td>1959</td>\n",
       "      <td>Invention of the silicon chip is the major tec...</td>\n",
       "      <td>NaN</td>\n",
       "      <td>NaN</td>\n",
       "      <td>NaN</td>\n",
       "      <td>5</td>\n",
       "      <td>NaN</td>\n",
       "      <td>1.0</td>\n",
       "      <td>NaN</td>\n",
       "      <td>...</td>\n",
       "      <td>NaN</td>\n",
       "      <td>NaN</td>\n",
       "      <td>NaN</td>\n",
       "      <td>NaN</td>\n",
       "      <td>NaN</td>\n",
       "      <td>NaN</td>\n",
       "      <td>NaN</td>\n",
       "      <td>NaN</td>\n",
       "      <td>NaN</td>\n",
       "      <td>1959</td>\n",
       "    </tr>\n",
       "    <tr>\n",
       "      <td>171</td>\n",
       "      <td>171</td>\n",
       "      <td>1961</td>\n",
       "      <td>Yuri Gagarin of USSR becomes the first spaceman.</td>\n",
       "      <td>NaN</td>\n",
       "      <td>NaN</td>\n",
       "      <td>NaN</td>\n",
       "      <td>5</td>\n",
       "      <td>NaN</td>\n",
       "      <td>NaN</td>\n",
       "      <td>NaN</td>\n",
       "      <td>...</td>\n",
       "      <td>NaN</td>\n",
       "      <td>NaN</td>\n",
       "      <td>NaN</td>\n",
       "      <td>NaN</td>\n",
       "      <td>NaN</td>\n",
       "      <td>1.0</td>\n",
       "      <td>NaN</td>\n",
       "      <td>NaN</td>\n",
       "      <td>NaN</td>\n",
       "      <td>1961</td>\n",
       "    </tr>\n",
       "  </tbody>\n",
       "</table>\n",
       "<p>3 rows × 29 columns</p>\n",
       "</div>"
      ],
      "text/plain": [
       "     eventID  stem                                              event details  \\\n",
       "60        60   622           Flight of Mohammed from Mecca to Madina.     NaN   \n",
       "167      167  1959  Invention of the silicon chip is the major tec...     NaN   \n",
       "171      171  1961   Yuri Gagarin of USSR becomes the first spaceman.     NaN   \n",
       "\n",
       "    wikipedia mnemonic  itemDifficulty categories  America  Europe  ...  \\\n",
       "60        NaN      NaN               6  [Islam, ]      NaN     NaN  ...   \n",
       "167       NaN      NaN               5        NaN      1.0     NaN  ...   \n",
       "171       NaN      NaN               5        NaN      NaN     NaN  ...   \n",
       "\n",
       "     MiddleEast  prehistory  Religion  Roman  Royalty  Russia  Science  Wars  \\\n",
       "60          NaN         NaN       1.0    NaN      NaN     NaN      NaN   NaN   \n",
       "167         NaN         NaN       NaN    NaN      NaN     NaN      NaN   NaN   \n",
       "171         NaN         NaN       NaN    NaN      NaN     1.0      NaN   NaN   \n",
       "\n",
       "     World  YearNum  \n",
       "60     NaN      622  \n",
       "167    NaN     1959  \n",
       "171    NaN     1961  \n",
       "\n",
       "[3 rows x 29 columns]"
      ]
     },
     "execution_count": 6,
     "metadata": {},
     "output_type": "execute_result"
    }
   ],
   "source": [
    "df.sample(3)"
   ]
  },
  {
   "cell_type": "code",
   "execution_count": 7,
   "metadata": {},
   "outputs": [],
   "source": [
    "# might need to do this for other columns as well.\n",
    "categories = ['Asia', 'China', 'Britain', 'Roman']\n",
    "for c in categories:\n",
    "    df = df.astype({c: 'float64'})"
   ]
  },
  {
   "cell_type": "code",
   "execution_count": 8,
   "metadata": {},
   "outputs": [
    {
     "data": {
      "text/html": [
       "<div>\n",
       "<style scoped>\n",
       "    .dataframe tbody tr th:only-of-type {\n",
       "        vertical-align: middle;\n",
       "    }\n",
       "\n",
       "    .dataframe tbody tr th {\n",
       "        vertical-align: top;\n",
       "    }\n",
       "\n",
       "    .dataframe thead th {\n",
       "        text-align: right;\n",
       "    }\n",
       "</style>\n",
       "<table border=\"1\" class=\"dataframe\">\n",
       "  <thead>\n",
       "    <tr style=\"text-align: right;\">\n",
       "      <th></th>\n",
       "      <th>stem</th>\n",
       "      <th>event</th>\n",
       "      <th>details</th>\n",
       "      <th>wikipedia</th>\n",
       "      <th>mnemonic</th>\n",
       "      <th>categories</th>\n",
       "    </tr>\n",
       "  </thead>\n",
       "  <tbody>\n",
       "    <tr>\n",
       "      <td>0</td>\n",
       "      <td>c.3500 BC</td>\n",
       "      <td>Invention of the wheel and plough in Mesopotam...</td>\n",
       "      <td>NaN</td>\n",
       "      <td>NaN</td>\n",
       "      <td>NaN</td>\n",
       "      <td>[prehistory,]</td>\n",
       "    </tr>\n",
       "    <tr>\n",
       "      <td>1</td>\n",
       "      <td>c.3200 BC</td>\n",
       "      <td>Invention of writing in Mesopotamia: the means...</td>\n",
       "      <td>NaN</td>\n",
       "      <td>NaN</td>\n",
       "      <td>NaN</td>\n",
       "      <td>[prehistory,]</td>\n",
       "    </tr>\n",
       "    <tr>\n",
       "      <td>2</td>\n",
       "      <td>c.3000 BC</td>\n",
       "      <td>Founding of the first cities in Sumeria (prese...</td>\n",
       "      <td>NaN</td>\n",
       "      <td>NaN</td>\n",
       "      <td>NaN</td>\n",
       "      <td>[prehistory,]</td>\n",
       "    </tr>\n",
       "    <tr>\n",
       "      <td>3</td>\n",
       "      <td>c.3000 BC</td>\n",
       "      <td>Building of the Great Pyramid.</td>\n",
       "      <td>NaN</td>\n",
       "      <td>NaN</td>\n",
       "      <td>NaN</td>\n",
       "      <td>[prehistory,]</td>\n",
       "    </tr>\n",
       "    <tr>\n",
       "      <td>4</td>\n",
       "      <td>c.1600 BC</td>\n",
       "      <td>Modern alphabet invented: the essential means ...</td>\n",
       "      <td>NaN</td>\n",
       "      <td>NaN</td>\n",
       "      <td>NaN</td>\n",
       "      <td>[prehistory,]</td>\n",
       "    </tr>\n",
       "    <tr>\n",
       "      <td>...</td>\n",
       "      <td>...</td>\n",
       "      <td>...</td>\n",
       "      <td>...</td>\n",
       "      <td>...</td>\n",
       "      <td>...</td>\n",
       "      <td>...</td>\n",
       "    </tr>\n",
       "    <tr>\n",
       "      <td>210</td>\n",
       "      <td>1996</td>\n",
       "      <td>Dolly the sheep becomes the first mammal to be...</td>\n",
       "      <td>Her birth proved that specialised cells could ...</td>\n",
       "      <td>https://en.wikipedia.org/wiki/Dolly_(sheep)</td>\n",
       "      <td>NaN</td>\n",
       "      <td>NaN</td>\n",
       "    </tr>\n",
       "    <tr>\n",
       "      <td>211</td>\n",
       "      <td>1997</td>\n",
       "      <td>Tony Blair back in power in UK. Mohd. Khatami ...</td>\n",
       "      <td>NaN</td>\n",
       "      <td>NaN</td>\n",
       "      <td>NaN</td>\n",
       "      <td>NaN</td>\n",
       "    </tr>\n",
       "    <tr>\n",
       "      <td>212</td>\n",
       "      <td>1998</td>\n",
       "      <td>Indonesian President Suharto resigns. Pakistan...</td>\n",
       "      <td>NaN</td>\n",
       "      <td>NaN</td>\n",
       "      <td>NaN</td>\n",
       "      <td>NaN</td>\n",
       "    </tr>\n",
       "    <tr>\n",
       "      <td>213</td>\n",
       "      <td>1999</td>\n",
       "      <td>G-15 Summit ends</td>\n",
       "      <td>NaN</td>\n",
       "      <td>NaN</td>\n",
       "      <td>NaN</td>\n",
       "      <td>NaN</td>\n",
       "    </tr>\n",
       "    <tr>\n",
       "      <td>214</td>\n",
       "      <td>1999</td>\n",
       "      <td>Yugoslavia accepts a peace plan for Kosovo.</td>\n",
       "      <td>NaN</td>\n",
       "      <td>NaN</td>\n",
       "      <td>NaN</td>\n",
       "      <td>NaN</td>\n",
       "    </tr>\n",
       "  </tbody>\n",
       "</table>\n",
       "<p>215 rows × 6 columns</p>\n",
       "</div>"
      ],
      "text/plain": [
       "          stem                                              event  \\\n",
       "0    c.3500 BC  Invention of the wheel and plough in Mesopotam...   \n",
       "1    c.3200 BC  Invention of writing in Mesopotamia: the means...   \n",
       "2    c.3000 BC  Founding of the first cities in Sumeria (prese...   \n",
       "3    c.3000 BC                     Building of the Great Pyramid.   \n",
       "4    c.1600 BC  Modern alphabet invented: the essential means ...   \n",
       "..         ...                                                ...   \n",
       "210       1996  Dolly the sheep becomes the first mammal to be...   \n",
       "211       1997  Tony Blair back in power in UK. Mohd. Khatami ...   \n",
       "212       1998  Indonesian President Suharto resigns. Pakistan...   \n",
       "213       1999                                   G-15 Summit ends   \n",
       "214       1999        Yugoslavia accepts a peace plan for Kosovo.   \n",
       "\n",
       "                                               details  \\\n",
       "0                                                  NaN   \n",
       "1                                                  NaN   \n",
       "2                                                  NaN   \n",
       "3                                                  NaN   \n",
       "4                                                  NaN   \n",
       "..                                                 ...   \n",
       "210  Her birth proved that specialised cells could ...   \n",
       "211                                                NaN   \n",
       "212                                                NaN   \n",
       "213                                                NaN   \n",
       "214                                                NaN   \n",
       "\n",
       "                                       wikipedia mnemonic     categories  \n",
       "0                                            NaN      NaN  [prehistory,]  \n",
       "1                                            NaN      NaN  [prehistory,]  \n",
       "2                                            NaN      NaN  [prehistory,]  \n",
       "3                                            NaN      NaN  [prehistory,]  \n",
       "4                                            NaN      NaN  [prehistory,]  \n",
       "..                                           ...      ...            ...  \n",
       "210  https://en.wikipedia.org/wiki/Dolly_(sheep)      NaN            NaN  \n",
       "211                                          NaN      NaN            NaN  \n",
       "212                                          NaN      NaN            NaN  \n",
       "213                                          NaN      NaN            NaN  \n",
       "214                                          NaN      NaN            NaN  \n",
       "\n",
       "[215 rows x 6 columns]"
      ]
     },
     "execution_count": 8,
     "metadata": {},
     "output_type": "execute_result"
    }
   ],
   "source": [
    "#verify\n",
    "df.select_dtypes('object')"
   ]
  },
  {
   "cell_type": "code",
   "execution_count": 12,
   "metadata": {},
   "outputs": [
    {
     "name": "stdout",
     "output_type": "stream",
     "text": [
      "(215, 6)\n"
     ]
    }
   ],
   "source": [
    "print(df.select_dtypes('object').shape) # should be 6"
   ]
  },
  {
   "cell_type": "code",
   "execution_count": 13,
   "metadata": {},
   "outputs": [
    {
     "data": {
      "text/plain": [
       "array([nan,  1.])"
      ]
     },
     "execution_count": 13,
     "metadata": {},
     "output_type": "execute_result"
    }
   ],
   "source": [
    "col = \"America\"\n",
    "df[col].unique()\n",
    "#cond = (df[col]==\"1\")\n",
    "#df[cond]"
   ]
  },
  {
   "cell_type": "code",
   "execution_count": 14,
   "metadata": {},
   "outputs": [
    {
     "data": {
      "text/plain": [
       "Index(['eventID', 'itemDifficulty', 'America', 'Europe', 'Asia', 'Africa',\n",
       "       'China', 'Discovery', 'Britain', 'France', 'Greek', 'India',\n",
       "       'Invention', 'MiddleEast', 'prehistory', 'Religion', 'Roman', 'Royalty',\n",
       "       'Russia', 'Science', 'Wars', 'World', 'YearNum'],\n",
       "      dtype='object')"
      ]
     },
     "execution_count": 14,
     "metadata": {},
     "output_type": "execute_result"
    }
   ],
   "source": [
    "df.describe().columns"
   ]
  },
  {
   "cell_type": "code",
   "execution_count": 15,
   "metadata": {},
   "outputs": [
    {
     "data": {
      "text/plain": [
       "eventID                                                       23005\n",
       "stem              c.3500 BCc.3200 BCc.3000 BCc.3000 BCc.1600 BCc...\n",
       "event             Invention of the wheel and plough in Mesopotam...\n",
       "itemDifficulty                                                 1229\n",
       "America                                                          25\n",
       "Europe                                                           79\n",
       "Asia                                                             32\n",
       "Africa                                                            8\n",
       "China                                                            14\n",
       "Discovery                                                         6\n",
       "Britain                                                          29\n",
       "France                                                            8\n",
       "Greek                                                            17\n",
       "India                                                            14\n",
       "Invention                                                         1\n",
       "MiddleEast                                                        2\n",
       "prehistory                                                       21\n",
       "Religion                                                         17\n",
       "Roman                                                            18\n",
       "Royalty                                                           8\n",
       "Russia                                                           12\n",
       "Science                                                           8\n",
       "Wars                                                             24\n",
       "World                                                             8\n",
       "YearNum                                                      247556\n",
       "dtype: object"
      ]
     },
     "execution_count": 15,
     "metadata": {},
     "output_type": "execute_result"
    }
   ],
   "source": [
    "df.sum()"
   ]
  },
  {
   "cell_type": "code",
   "execution_count": 16,
   "metadata": {},
   "outputs": [],
   "source": [
    "diffcat  = pd.cut(df['itemDifficulty'], bins=3, labels=['E',\"M\", 'H'])\n",
    "df['diffCat'] = diffcat"
   ]
  },
  {
   "cell_type": "markdown",
   "metadata": {},
   "source": [
    "## Adding 2 Date based Columns\n",
    "### 1. YearNum\n",
    "### 2. TimePeriod (pd. cut)"
   ]
  },
  {
   "cell_type": "code",
   "execution_count": 17,
   "metadata": {},
   "outputs": [],
   "source": [
    "def getYearNum(x):\n",
    "    mult = 1\n",
    "    if \"BC\" in x:\n",
    "        x = x.replace('BC', '')                \n",
    "        mult = -1\n",
    "    x = x.replace('c.','') #handle circa\n",
    "    x = x.replace('AD','')\n",
    "        \n",
    "    try:\n",
    "        yr = mult * int(x)\n",
    "    except:\n",
    "        print('CONVERSION ERROR while attempting...')\n",
    "        print(x)\n",
    "        yr = x\n",
    "        \n",
    "    return(yr)"
   ]
  },
  {
   "cell_type": "code",
   "execution_count": 18,
   "metadata": {},
   "outputs": [],
   "source": [
    "df['YearNum'] = df['stem'].apply(getYearNum)"
   ]
  },
  {
   "cell_type": "code",
   "execution_count": 19,
   "metadata": {},
   "outputs": [],
   "source": [
    "bins = [-15000, 0, 500, 1000, 1500, 1700, 1800, 1900, 2100]\n",
    "labels = ['BCE', '0AD-500AD', '500AD-1000AD', '1000AD-1500AD', '1500AD-1700AD', '1700s', '1800s', '1900-Present']\n",
    "df['timePeriod'] = pd.cut(df['YearNum'], bins = bins, labels = labels)"
   ]
  },
  {
   "cell_type": "markdown",
   "metadata": {},
   "source": [
    "\n",
    "# Add 3 new columns for Alternatives (\"Wrong Answers\")\n",
    "- altsEasy\n",
    "- altsMed\n",
    "- altsHard"
   ]
  },
  {
   "cell_type": "code",
   "execution_count": 20,
   "metadata": {},
   "outputs": [],
   "source": [
    "def get_valid_alts(baseyr, perturbs):\n",
    "    \"\"\"\n",
    "    returns a list of valid distractors\n",
    "    \n",
    "    baseyr is the correct year. \n",
    "    @perturbs is a list of numbers to be added or subtracted\n",
    "    \"\"\"    \n",
    "    options = [baseyr + p for p in perturbs] + [baseyr + (-1*p) for p in perturbs]\n",
    "    return [dte for dte in options if (dte>0 and dte<2000)]\n",
    "\n",
    "\n",
    "def get_valid_BC_alts(baseyr, perturbs):\n",
    "    \"\"\"\n",
    "    returns a list of valid distractors\n",
    "    \n",
    "    baseyr is the correct year. \n",
    "    @perturbs is a list of numbers to be added or subtracted\n",
    "    \"\"\"    \n",
    "    perturbs = [1,2,5]\n",
    "    options = [baseyr + p for p in perturbs] + [baseyr + (-1*p) for p in perturbs]\n",
    "    return [dte for dte in options if (dte>0 and dte<2000)]\n",
    "\n",
    "    \n",
    "    \n",
    "diff_perturbs = [100,50, 20,10, 5, 2, 1]\n",
    "med_perturbs = [100, 20,10, 5]\n",
    "easy_perturbs = [200, 100,50,20]\n",
    "\n",
    "perturbationDict = {'Hard': diff_perturbs, 'Medium': med_perturbs, 'Easy': easy_perturbs}"
   ]
  },
  {
   "cell_type": "code",
   "execution_count": 21,
   "metadata": {},
   "outputs": [],
   "source": [
    "def get_alternatives(_str, difflevel='Hard'):\n",
    "    \n",
    "    \n",
    "    nums = [int(s) for s in _str.split() if s.isdigit()]\n",
    "    numstr = [s for s in _str.split() if s.isdigit()]\n",
    "    \n",
    "    options = None\n",
    "    perturbs = perturbationDict[difflevel]\n",
    "\n",
    "    if \"BC\" in _str:\n",
    "        if \"c.\" in _str: #circa BC, so give only approx alternatives.\n",
    "            _str = _str.replace('c.','')\n",
    "            _str = _str.replace('BC', '')\n",
    "            nums = [int(s) for s in _str.split() if s.isdigit()]\n",
    "            numstr = [s for s in _str.split() if s.isdigit()]\n",
    "            if len(nums)==1:\n",
    "                nstr = numstr[0]\n",
    "                if nstr[-3:] == '000':\n",
    "                    part = int(nstr[:-3])\n",
    "                    options = get_valid_BC_alts(part, perturbs)\n",
    "                    return [f' c. {x}000 BC' for x in options if x>0]\n",
    "\n",
    "                if nstr[-2:] == '00':\n",
    "                    part = int(nstr[:-2])\n",
    "                    options = get_valid_BC_alts(part, perturbs)\n",
    "                    return [f' c. {x}00 BC' for x in options if x >0]                \n",
    "                \n",
    "                if nstr[-1] == '0':\n",
    "                    part = int(nstr[:-1])\n",
    "                    options = get_valid_BC_alts(part, perturbs)\n",
    "                    return [f' c. {x}0 BC' for x in options if x >0]                            \n",
    "                else:\n",
    "                    numpart = int(nstr)\n",
    "                    options = get_valid_BC_alts(numpart, perturbs)\n",
    "                    return [f' c. {x} BC' for x in options if x >0]                            \n",
    "                    \n",
    "            \n",
    "        #case where there is BC but not circa\n",
    "        #Exact BC year is presumed known\n",
    "        elif len(nums)==1:\n",
    "            part = int(nums[0])\n",
    "            options = get_valid_alts(part, perturbs)\n",
    "            return [f'{x} BC' for x in options if x>0]        \n",
    "        \n",
    "        else: #something not right\n",
    "            print(f'something not right for {_str}')\n",
    "            return _str\n",
    "    \n",
    "    \n",
    "    elif 'c.AD' in _str:\n",
    "        if len(nums)==1:\n",
    "            a = nums[0]\n",
    "            options = get_valid_alts(a, perturbs)\n",
    "            return [f'c. {x} AD' for x in options]\n",
    "        else:\n",
    "            print(f'Error in {_str} {nums}')\n",
    "        \n",
    "    else: #AD single number event\n",
    "        nums = [int(s) for s in _str.split() if s.isdigit()]\n",
    "        if len(nums)==1:\n",
    "            numpart = nums[0]\n",
    "            options = get_valid_alts(numpart, perturbs)            \n",
    "                \n",
    "        return options"
   ]
  },
  {
   "cell_type": "code",
   "execution_count": 22,
   "metadata": {},
   "outputs": [
    {
     "name": "stdout",
     "output_type": "stream",
     "text": [
      "altsMid Medium\n",
      "0 missing\n",
      " fewest options are 4\n",
      "altsHard Hard\n",
      "0 missing\n",
      " fewest options are 5\n",
      "altsEasy Easy\n",
      "0 missing\n",
      " fewest options are 4\n",
      "df now has 3 new columns with Alternatives\n"
     ]
    }
   ],
   "source": [
    "altuples = [('altsMid', 'Medium'), ('altsHard', 'Hard'), ('altsEasy', 'Easy') ]\n",
    "\n",
    "for a in altuples:\n",
    "    col, lvl = a\n",
    "    print(col, lvl)\n",
    "    df[col] = df['stem'].apply(get_alternatives, difflevel=lvl)\n",
    "    print(f'{df[col].isnull().sum()} missing')\n",
    "    fewest_options = df[col].apply(len).min()\n",
    "    print(f' fewest options are {fewest_options}')\n",
    "    \n",
    "print('df now has 3 new columns with Alternatives')"
   ]
  },
  {
   "cell_type": "code",
   "execution_count": 23,
   "metadata": {},
   "outputs": [
    {
     "data": {
      "text/html": [
       "<div>\n",
       "<style scoped>\n",
       "    .dataframe tbody tr th:only-of-type {\n",
       "        vertical-align: middle;\n",
       "    }\n",
       "\n",
       "    .dataframe tbody tr th {\n",
       "        vertical-align: top;\n",
       "    }\n",
       "\n",
       "    .dataframe thead th {\n",
       "        text-align: right;\n",
       "    }\n",
       "</style>\n",
       "<table border=\"1\" class=\"dataframe\">\n",
       "  <thead>\n",
       "    <tr style=\"text-align: right;\">\n",
       "      <th></th>\n",
       "      <th>stem</th>\n",
       "      <th>altsEasy</th>\n",
       "    </tr>\n",
       "  </thead>\n",
       "  <tbody>\n",
       "    <tr>\n",
       "      <td>13</td>\n",
       "      <td>588 BC</td>\n",
       "      <td>[788 BC, 688 BC, 638 BC, 608 BC, 388 BC, 488 BC, 538 BC, 568 BC]</td>\n",
       "    </tr>\n",
       "    <tr>\n",
       "      <td>103</td>\n",
       "      <td>1707</td>\n",
       "      <td>[1907, 1807, 1757, 1727, 1507, 1607, 1657, 1687]</td>\n",
       "    </tr>\n",
       "    <tr>\n",
       "      <td>60</td>\n",
       "      <td>622</td>\n",
       "      <td>[822, 722, 672, 642, 422, 522, 572, 602]</td>\n",
       "    </tr>\n",
       "    <tr>\n",
       "      <td>7</td>\n",
       "      <td>995 BC</td>\n",
       "      <td>[1195 BC, 1095 BC, 1045 BC, 1015 BC, 795 BC, 895 BC, 945 BC, 975 BC]</td>\n",
       "    </tr>\n",
       "    <tr>\n",
       "      <td>10</td>\n",
       "      <td>753 BC</td>\n",
       "      <td>[953 BC, 853 BC, 803 BC, 773 BC, 553 BC, 653 BC, 703 BC, 733 BC]</td>\n",
       "    </tr>\n",
       "  </tbody>\n",
       "</table>\n",
       "</div>"
      ],
      "text/plain": [
       "       stem  \\\n",
       "13   588 BC   \n",
       "103    1707   \n",
       "60      622   \n",
       "7    995 BC   \n",
       "10   753 BC   \n",
       "\n",
       "                                                                 altsEasy  \n",
       "13       [788 BC, 688 BC, 638 BC, 608 BC, 388 BC, 488 BC, 538 BC, 568 BC]  \n",
       "103                      [1907, 1807, 1757, 1727, 1507, 1607, 1657, 1687]  \n",
       "60                               [822, 722, 672, 642, 422, 522, 572, 602]  \n",
       "7    [1195 BC, 1095 BC, 1045 BC, 1015 BC, 795 BC, 895 BC, 945 BC, 975 BC]  \n",
       "10       [953 BC, 853 BC, 803 BC, 773 BC, 553 BC, 653 BC, 703 BC, 733 BC]  "
      ]
     },
     "execution_count": 23,
     "metadata": {},
     "output_type": "execute_result"
    }
   ],
   "source": [
    "pd.set_option('display.max_colwidth', 120)\n",
    "df[['stem', col]].sample(5)"
   ]
  },
  {
   "cell_type": "code",
   "execution_count": 24,
   "metadata": {},
   "outputs": [
    {
     "data": {
      "text/plain": [
       "188    [1780, 1880, 1930, 1960]\n",
       "189    [1780, 1880, 1930, 1960]\n",
       "190    [1782, 1882, 1932, 1962]\n",
       "191    [1783, 1883, 1933, 1963]\n",
       "192    [1785, 1885, 1935, 1965]\n",
       "193    [1785, 1885, 1935, 1965]\n",
       "194    [1785, 1885, 1935, 1965]\n",
       "195    [1786, 1886, 1936, 1966]\n",
       "196    [1787, 1887, 1937, 1967]\n",
       "197    [1788, 1888, 1938, 1968]\n",
       "198    [1789, 1889, 1939, 1969]\n",
       "199    [1789, 1889, 1939, 1969]\n",
       "200    [1790, 1890, 1940, 1970]\n",
       "201    [1791, 1891, 1941, 1971]\n",
       "202    [1793, 1893, 1943, 1973]\n",
       "203    [1794, 1894, 1944, 1974]\n",
       "204    [1795, 1895, 1945, 1975]\n",
       "205    [1796, 1896, 1946, 1976]\n",
       "206    [1796, 1896, 1946, 1976]\n",
       "207    [1796, 1896, 1946, 1976]\n",
       "208    [1796, 1896, 1946, 1976]\n",
       "209    [1796, 1896, 1946, 1976]\n",
       "210    [1796, 1896, 1946, 1976]\n",
       "211    [1797, 1897, 1947, 1977]\n",
       "212    [1798, 1898, 1948, 1978]\n",
       "213    [1799, 1899, 1949, 1979]\n",
       "214    [1799, 1899, 1949, 1979]\n",
       "Name: altsEasy, dtype: object"
      ]
     },
     "execution_count": 24,
     "metadata": {},
     "output_type": "execute_result"
    }
   ],
   "source": [
    "# Just for visual inspections\n",
    "cond = (df[col].apply(len)==fewest_options)\n",
    "df[cond][col]"
   ]
  },
  {
   "cell_type": "markdown",
   "metadata": {},
   "source": [
    "-------\n",
    "# Save the events DB file"
   ]
  },
  {
   "cell_type": "code",
   "execution_count": 25,
   "metadata": {},
   "outputs": [
    {
     "name": "stdout",
     "output_type": "stream",
     "text": [
      "Today's date: 2022-04-04\n"
     ]
    }
   ],
   "source": [
    "from datetime import date\n",
    "\n",
    "today = date.today()\n",
    "print(f\"Today's date: {today}\")"
   ]
  },
  {
   "cell_type": "code",
   "execution_count": 26,
   "metadata": {},
   "outputs": [
    {
     "name": "stdout",
     "output_type": "stream",
     "text": [
      "wrote file data/2022-04-04_eventsDB.csv\n"
     ]
    }
   ],
   "source": [
    "csvfilename = f'data/{today}_eventsDB.csv'\n",
    "df.to_csv(csvfilename, index=False);\n",
    "print(f'wrote file {csvfilename}')"
   ]
  },
  {
   "cell_type": "code",
   "execution_count": 27,
   "metadata": {},
   "outputs": [],
   "source": [
    "if 0:\n",
    "    row = df.sample(10).index\n",
    "    new = df.loc[row]['Date'].apply(get_alternatives)\n",
    "    pd.DataFrame(np.column_stack([df.loc[row]['Date'], new]))"
   ]
  },
  {
   "cell_type": "code",
   "execution_count": 28,
   "metadata": {},
   "outputs": [],
   "source": [
    "#cut and paste this output to the file called: eventsDB.js\n",
    "df.T.to_json('data/backup_eventsDB_.js')"
   ]
  },
  {
   "cell_type": "code",
   "execution_count": 29,
   "metadata": {},
   "outputs": [],
   "source": [
    "bigstring = df.T.to_json()"
   ]
  },
  {
   "cell_type": "code",
   "execution_count": 33,
   "metadata": {},
   "outputs": [
    {
     "name": "stdout",
     "output_type": "stream",
     "text": [
      "data/eventsDB.js written\n"
     ]
    }
   ],
   "source": [
    "outJSfile = f'data/eventsDB.js'\n",
    "with open(outJSfile, \"w\") as text_file:\n",
    "    text_file.write('events = ' + bigstring)\n",
    "\n",
    "print(f'{outJSfile} written')"
   ]
  },
  {
   "cell_type": "code",
   "execution_count": 34,
   "metadata": {},
   "outputs": [
    {
     "name": "stdout",
     "output_type": "stream",
     "text": [
      "True\n",
      "True\n",
      "True\n",
      "True\n",
      "True\n",
      "True\n",
      "True\n"
     ]
    }
   ],
   "source": [
    "added_columns = ['YearNum', 'timePeriod',\n",
    "       'altsMid', 'altsHard', 'altsEasy', 'stem', 'diffCat']\n",
    "for c in added_columns:\n",
    "    print(c in df.columns)"
   ]
  },
  {
   "cell_type": "code",
   "execution_count": 32,
   "metadata": {},
   "outputs": [
    {
     "data": {
      "text/plain": [
       "(215, 34)"
      ]
     },
     "execution_count": 32,
     "metadata": {},
     "output_type": "execute_result"
    }
   ],
   "source": [
    "df.shape"
   ]
  },
  {
   "cell_type": "markdown",
   "metadata": {},
   "source": [
    "----\n",
    "# Plotting"
   ]
  },
  {
   "cell_type": "code",
   "execution_count": null,
   "metadata": {},
   "outputs": [],
   "source": [
    "df['YearNum'].diff().hist()"
   ]
  },
  {
   "cell_type": "code",
   "execution_count": null,
   "metadata": {
    "scrolled": true
   },
   "outputs": [],
   "source": [
    "diffcat.value_counts()"
   ]
  },
  {
   "cell_type": "code",
   "execution_count": null,
   "metadata": {},
   "outputs": [],
   "source": [
    "diffcat.hist()"
   ]
  },
  {
   "cell_type": "code",
   "execution_count": null,
   "metadata": {},
   "outputs": [],
   "source": [
    "#fig, ax = plt.subplot(figsize=(10,10))\n",
    "plt.figure(figsize=(12,8))\n",
    "df['itemDifficulty'].hist()"
   ]
  },
  {
   "cell_type": "code",
   "execution_count": null,
   "metadata": {},
   "outputs": [],
   "source": []
  },
  {
   "cell_type": "code",
   "execution_count": null,
   "metadata": {},
   "outputs": [],
   "source": []
  }
 ],
 "metadata": {
  "kernelspec": {
   "display_name": "Python 3",
   "language": "python",
   "name": "python3"
  },
  "language_info": {
   "codemirror_mode": {
    "name": "ipython",
    "version": 3
   },
   "file_extension": ".py",
   "mimetype": "text/x-python",
   "name": "python",
   "nbconvert_exporter": "python",
   "pygments_lexer": "ipython3",
   "version": "3.7.4"
  }
 },
 "nbformat": 4,
 "nbformat_minor": 4
}
