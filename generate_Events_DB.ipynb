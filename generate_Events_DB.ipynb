{
 "cells": [
  {
   "cell_type": "markdown",
   "metadata": {},
   "source": [
    "# GENERATE NEW EVENTS DB FILE"
   ]
  },
  {
   "cell_type": "code",
   "execution_count": 180,
   "metadata": {},
   "outputs": [],
   "source": [
    "import pandas as pd\n",
    "import numpy as np\n",
    "import json\n",
    "import os\n",
    "import matplotlib.pyplot as plt\n",
    "%matplotlib inline"
   ]
  },
  {
   "cell_type": "code",
   "execution_count": 181,
   "metadata": {},
   "outputs": [
    {
     "data": {
      "text/plain": [
       "['2022-02-27_eventsDB.csv',\n",
       " '2022-03-04_eventsDB.csv',\n",
       " 'adds1548_1554.csv',\n",
       " 'celebrity_deaths_4.csv',\n",
       " 'df_main.csv',\n",
       " 'economists_lifetimes.csv',\n",
       " 'eventsDB.js',\n",
       " 'eventsDB.test',\n",
       " 'eventsDB_.js',\n",
       " 'events_db.csv',\n",
       " 'events_master.csv',\n",
       " 'list_of_presidents_of_france-836j.csv',\n",
       " 'list_of_prime_ministers_of_uk-839j.csv',\n",
       " 'pantheon.tsv',\n",
       " 'philosophers.csv',\n",
       " 'README.md',\n",
       " 'US_Presidents.json',\n",
       " 'world_events.js',\n",
       " 'world_events.json',\n",
       " 'world_events.txt']"
      ]
     },
     "execution_count": 181,
     "metadata": {},
     "output_type": "execute_result"
    }
   ],
   "source": [
    "os.listdir('data')"
   ]
  },
  {
   "cell_type": "code",
   "execution_count": 190,
   "metadata": {
    "scrolled": true
   },
   "outputs": [],
   "source": [
    "master_file = 'data/events_master.csv'\n",
    "df = pd.read_csv(master_file, encoding = \"ISO-8859-1\")"
   ]
  },
  {
   "cell_type": "code",
   "execution_count": 191,
   "metadata": {},
   "outputs": [],
   "source": [
    "df['Event'] = df['Event'].str.strip()\n",
    "df = df.drop(['Alternatives'], axis=1)"
   ]
  },
  {
   "cell_type": "code",
   "execution_count": 192,
   "metadata": {},
   "outputs": [
    {
     "name": "stdout",
     "output_type": "stream",
     "text": [
      "(155, 21) Index(['EventID', 'Date', 'Event', 'Details', 'ItemDifficulty', 'Categories',\n",
      "       'America', 'Europe', 'Asia', 'Africa', 'England', 'France', 'Russian',\n",
      "       'Roman', 'Greek', 'Indian', 'Chinese', 'Science', 'Discovery',\n",
      "       'Invention', 'Wars'],\n",
      "      dtype='object')\n"
     ]
    }
   ],
   "source": [
    "print(df.shape, df.columns)"
   ]
  },
  {
   "cell_type": "code",
   "execution_count": 193,
   "metadata": {},
   "outputs": [
    {
     "data": {
      "text/html": [
       "<div>\n",
       "<style scoped>\n",
       "    .dataframe tbody tr th:only-of-type {\n",
       "        vertical-align: middle;\n",
       "    }\n",
       "\n",
       "    .dataframe tbody tr th {\n",
       "        vertical-align: top;\n",
       "    }\n",
       "\n",
       "    .dataframe thead th {\n",
       "        text-align: right;\n",
       "    }\n",
       "</style>\n",
       "<table border=\"1\" class=\"dataframe\">\n",
       "  <thead>\n",
       "    <tr style=\"text-align: right;\">\n",
       "      <th></th>\n",
       "      <th>EventID</th>\n",
       "      <th>Date</th>\n",
       "      <th>Event</th>\n",
       "      <th>Details</th>\n",
       "      <th>ItemDifficulty</th>\n",
       "      <th>Categories</th>\n",
       "      <th>America</th>\n",
       "      <th>Europe</th>\n",
       "      <th>Asia</th>\n",
       "      <th>Africa</th>\n",
       "      <th>...</th>\n",
       "      <th>France</th>\n",
       "      <th>Russian</th>\n",
       "      <th>Roman</th>\n",
       "      <th>Greek</th>\n",
       "      <th>Indian</th>\n",
       "      <th>Chinese</th>\n",
       "      <th>Science</th>\n",
       "      <th>Discovery</th>\n",
       "      <th>Invention</th>\n",
       "      <th>Wars</th>\n",
       "    </tr>\n",
       "  </thead>\n",
       "  <tbody>\n",
       "    <tr>\n",
       "      <td>56</td>\n",
       "      <td>57</td>\n",
       "      <td>1564</td>\n",
       "      <td>William Shakespeare is born: his plays make fundamental statements about the human condition</td>\n",
       "      <td>NaN</td>\n",
       "      <td>4</td>\n",
       "      <td>[Britain, Literature, ]</td>\n",
       "      <td>NaN</td>\n",
       "      <td>1.0</td>\n",
       "      <td>NaN</td>\n",
       "      <td>NaN</td>\n",
       "      <td>...</td>\n",
       "      <td>NaN</td>\n",
       "      <td>NaN</td>\n",
       "      <td>NaN</td>\n",
       "      <td>NaN</td>\n",
       "      <td>NaN</td>\n",
       "      <td>NaN</td>\n",
       "      <td>NaN</td>\n",
       "      <td>NaN</td>\n",
       "      <td>NaN</td>\n",
       "      <td>NaN</td>\n",
       "    </tr>\n",
       "    <tr>\n",
       "      <td>9</td>\n",
       "      <td>10</td>\n",
       "      <td>c.551 BC</td>\n",
       "      <td>Birth of Confucius, the founder of one of the world's major philosophical systems</td>\n",
       "      <td>NaN</td>\n",
       "      <td>7</td>\n",
       "      <td>[prehistory,]</td>\n",
       "      <td>NaN</td>\n",
       "      <td>NaN</td>\n",
       "      <td>NaN</td>\n",
       "      <td>NaN</td>\n",
       "      <td>...</td>\n",
       "      <td>NaN</td>\n",
       "      <td>NaN</td>\n",
       "      <td>NaN</td>\n",
       "      <td>NaN</td>\n",
       "      <td>NaN</td>\n",
       "      <td>NaN</td>\n",
       "      <td>NaN</td>\n",
       "      <td>NaN</td>\n",
       "      <td>NaN</td>\n",
       "      <td>NaN</td>\n",
       "    </tr>\n",
       "    <tr>\n",
       "      <td>49</td>\n",
       "      <td>50</td>\n",
       "      <td>1492</td>\n",
       "      <td>Discovery of America by Columbus.</td>\n",
       "      <td>NaN</td>\n",
       "      <td>1</td>\n",
       "      <td>[America, ]</td>\n",
       "      <td>1.0</td>\n",
       "      <td>1.0</td>\n",
       "      <td>NaN</td>\n",
       "      <td>NaN</td>\n",
       "      <td>...</td>\n",
       "      <td>NaN</td>\n",
       "      <td>NaN</td>\n",
       "      <td>NaN</td>\n",
       "      <td>NaN</td>\n",
       "      <td>NaN</td>\n",
       "      <td>NaN</td>\n",
       "      <td>NaN</td>\n",
       "      <td>NaN</td>\n",
       "      <td>NaN</td>\n",
       "      <td>NaN</td>\n",
       "    </tr>\n",
       "  </tbody>\n",
       "</table>\n",
       "<p>3 rows × 21 columns</p>\n",
       "</div>"
      ],
      "text/plain": [
       "    EventID      Date  \\\n",
       "56       57      1564   \n",
       "9        10  c.551 BC   \n",
       "49       50      1492   \n",
       "\n",
       "                                                                                           Event  \\\n",
       "56  William Shakespeare is born: his plays make fundamental statements about the human condition   \n",
       "9              Birth of Confucius, the founder of one of the world's major philosophical systems   \n",
       "49                                                             Discovery of America by Columbus.   \n",
       "\n",
       "   Details  ItemDifficulty               Categories  America  Europe  Asia  \\\n",
       "56     NaN               4  [Britain, Literature, ]      NaN     1.0   NaN   \n",
       "9      NaN               7            [prehistory,]      NaN     NaN   NaN   \n",
       "49     NaN               1              [America, ]      1.0     1.0   NaN   \n",
       "\n",
       "    Africa  ...  France  Russian  Roman  Greek  Indian  Chinese  Science  \\\n",
       "56     NaN  ...     NaN      NaN    NaN    NaN     NaN      NaN      NaN   \n",
       "9      NaN  ...     NaN      NaN    NaN    NaN     NaN      NaN      NaN   \n",
       "49     NaN  ...     NaN      NaN    NaN    NaN     NaN      NaN      NaN   \n",
       "\n",
       "    Discovery  Invention  Wars  \n",
       "56        NaN        NaN   NaN  \n",
       "9         NaN        NaN   NaN  \n",
       "49        NaN        NaN   NaN  \n",
       "\n",
       "[3 rows x 21 columns]"
      ]
     },
     "execution_count": 193,
     "metadata": {},
     "output_type": "execute_result"
    }
   ],
   "source": [
    "df.sample(3)"
   ]
  },
  {
   "cell_type": "code",
   "execution_count": 194,
   "metadata": {},
   "outputs": [
    {
     "data": {
      "text/html": [
       "<div>\n",
       "<style scoped>\n",
       "    .dataframe tbody tr th:only-of-type {\n",
       "        vertical-align: middle;\n",
       "    }\n",
       "\n",
       "    .dataframe tbody tr th {\n",
       "        vertical-align: top;\n",
       "    }\n",
       "\n",
       "    .dataframe thead th {\n",
       "        text-align: right;\n",
       "    }\n",
       "</style>\n",
       "<table border=\"1\" class=\"dataframe\">\n",
       "  <thead>\n",
       "    <tr style=\"text-align: right;\">\n",
       "      <th></th>\n",
       "      <th>Date</th>\n",
       "      <th>Event</th>\n",
       "      <th>Details</th>\n",
       "      <th>Categories</th>\n",
       "    </tr>\n",
       "  </thead>\n",
       "  <tbody>\n",
       "    <tr>\n",
       "      <td>0</td>\n",
       "      <td>c.3500 BC</td>\n",
       "      <td>Invention of the wheel and plough in Mesopotamia (present-day Iraq); invention of the sail in Egypt: three fundament...</td>\n",
       "      <td>NaN</td>\n",
       "      <td>[prehistory,]</td>\n",
       "    </tr>\n",
       "    <tr>\n",
       "      <td>1</td>\n",
       "      <td>c.3200 BC</td>\n",
       "      <td>Invention of writing in Mesopotamia: the means to record and understand human history</td>\n",
       "      <td>NaN</td>\n",
       "      <td>[prehistory,]</td>\n",
       "    </tr>\n",
       "    <tr>\n",
       "      <td>2</td>\n",
       "      <td>c.3000 BC</td>\n",
       "      <td>Founding of the first cities in Sumeria (present-day Iraq): origin of modern social and administrative structures</td>\n",
       "      <td>NaN</td>\n",
       "      <td>[prehistory,]</td>\n",
       "    </tr>\n",
       "    <tr>\n",
       "      <td>3</td>\n",
       "      <td>c.3000 BC</td>\n",
       "      <td>Building of the Great Pyramid.</td>\n",
       "      <td>NaN</td>\n",
       "      <td>[prehistory,]</td>\n",
       "    </tr>\n",
       "    <tr>\n",
       "      <td>4</td>\n",
       "      <td>c.1600 BC</td>\n",
       "      <td>Modern alphabet invented: the essential means of communication of complex concepts and culture</td>\n",
       "      <td>NaN</td>\n",
       "      <td>[prehistory,]</td>\n",
       "    </tr>\n",
       "    <tr>\n",
       "      <td>...</td>\n",
       "      <td>...</td>\n",
       "      <td>...</td>\n",
       "      <td>...</td>\n",
       "      <td>...</td>\n",
       "    </tr>\n",
       "    <tr>\n",
       "      <td>150</td>\n",
       "      <td>1995</td>\n",
       "      <td>WTO comes into existence. Nuclear test by France. Balkan peace accord signed.</td>\n",
       "      <td>NaN</td>\n",
       "      <td>NaN</td>\n",
       "    </tr>\n",
       "    <tr>\n",
       "      <td>151</td>\n",
       "      <td>1996</td>\n",
       "      <td>Kofi Annan new UN Secretary General. Clinton re-elected US President. India refuses to sign CTBT. Shekh Hasina Wajed...</td>\n",
       "      <td>NaN</td>\n",
       "      <td>[World, India,</td>\n",
       "    </tr>\n",
       "    <tr>\n",
       "      <td>152</td>\n",
       "      <td>1997</td>\n",
       "      <td>Tony Blair back in power in UK. Mohd. Khatami elected president of Iran. Hong Kong goes back to China after 99 year ...</td>\n",
       "      <td>NaN</td>\n",
       "      <td>NaN</td>\n",
       "    </tr>\n",
       "    <tr>\n",
       "      <td>153</td>\n",
       "      <td>1998</td>\n",
       "      <td>Indonesian President Suharto resigns. Pakistan test fires `Gauri' missile. US President Clinton faces impeachment.</td>\n",
       "      <td>NaN</td>\n",
       "      <td>NaN</td>\n",
       "    </tr>\n",
       "    <tr>\n",
       "      <td>154</td>\n",
       "      <td>1999</td>\n",
       "      <td>G-15 Summit ends. Yugoslavia accepts a peace plan for Kosovo.</td>\n",
       "      <td>NaN</td>\n",
       "      <td>[World, Europe]</td>\n",
       "    </tr>\n",
       "  </tbody>\n",
       "</table>\n",
       "<p>155 rows × 4 columns</p>\n",
       "</div>"
      ],
      "text/plain": [
       "          Date  \\\n",
       "0    c.3500 BC   \n",
       "1    c.3200 BC   \n",
       "2    c.3000 BC   \n",
       "3    c.3000 BC   \n",
       "4    c.1600 BC   \n",
       "..         ...   \n",
       "150       1995   \n",
       "151       1996   \n",
       "152       1997   \n",
       "153       1998   \n",
       "154       1999   \n",
       "\n",
       "                                                                                                                       Event  \\\n",
       "0    Invention of the wheel and plough in Mesopotamia (present-day Iraq); invention of the sail in Egypt: three fundament...   \n",
       "1                                      Invention of writing in Mesopotamia: the means to record and understand human history   \n",
       "2          Founding of the first cities in Sumeria (present-day Iraq): origin of modern social and administrative structures   \n",
       "3                                                                                             Building of the Great Pyramid.   \n",
       "4                             Modern alphabet invented: the essential means of communication of complex concepts and culture   \n",
       "..                                                                                                                       ...   \n",
       "150                                            WTO comes into existence. Nuclear test by France. Balkan peace accord signed.   \n",
       "151  Kofi Annan new UN Secretary General. Clinton re-elected US President. India refuses to sign CTBT. Shekh Hasina Wajed...   \n",
       "152  Tony Blair back in power in UK. Mohd. Khatami elected president of Iran. Hong Kong goes back to China after 99 year ...   \n",
       "153       Indonesian President Suharto resigns. Pakistan test fires `Gauri' missile. US President Clinton faces impeachment.   \n",
       "154                                                            G-15 Summit ends. Yugoslavia accepts a peace plan for Kosovo.   \n",
       "\n",
       "    Details       Categories  \n",
       "0       NaN    [prehistory,]  \n",
       "1       NaN    [prehistory,]  \n",
       "2       NaN    [prehistory,]  \n",
       "3       NaN    [prehistory,]  \n",
       "4       NaN    [prehistory,]  \n",
       "..      ...              ...  \n",
       "150     NaN              NaN  \n",
       "151     NaN  [World, India,   \n",
       "152     NaN              NaN  \n",
       "153     NaN              NaN  \n",
       "154     NaN  [World, Europe]  \n",
       "\n",
       "[155 rows x 4 columns]"
      ]
     },
     "execution_count": 194,
     "metadata": {},
     "output_type": "execute_result"
    }
   ],
   "source": [
    "df.select_dtypes('object')\n"
   ]
  },
  {
   "cell_type": "code",
   "execution_count": 195,
   "metadata": {},
   "outputs": [
    {
     "data": {
      "text/html": [
       "<div>\n",
       "<style scoped>\n",
       "    .dataframe tbody tr th:only-of-type {\n",
       "        vertical-align: middle;\n",
       "    }\n",
       "\n",
       "    .dataframe tbody tr th {\n",
       "        vertical-align: top;\n",
       "    }\n",
       "\n",
       "    .dataframe thead th {\n",
       "        text-align: right;\n",
       "    }\n",
       "</style>\n",
       "<table border=\"1\" class=\"dataframe\">\n",
       "  <thead>\n",
       "    <tr style=\"text-align: right;\">\n",
       "      <th></th>\n",
       "      <th>EventID</th>\n",
       "      <th>ItemDifficulty</th>\n",
       "      <th>America</th>\n",
       "      <th>Europe</th>\n",
       "      <th>Asia</th>\n",
       "      <th>Africa</th>\n",
       "      <th>England</th>\n",
       "      <th>France</th>\n",
       "      <th>Russian</th>\n",
       "      <th>Roman</th>\n",
       "      <th>Greek</th>\n",
       "      <th>Indian</th>\n",
       "      <th>Chinese</th>\n",
       "      <th>Science</th>\n",
       "      <th>Discovery</th>\n",
       "      <th>Invention</th>\n",
       "      <th>Wars</th>\n",
       "    </tr>\n",
       "  </thead>\n",
       "  <tbody>\n",
       "    <tr>\n",
       "      <td>count</td>\n",
       "      <td>155.000000</td>\n",
       "      <td>155.000000</td>\n",
       "      <td>20.0</td>\n",
       "      <td>65.0</td>\n",
       "      <td>23.0</td>\n",
       "      <td>6.0</td>\n",
       "      <td>24.0</td>\n",
       "      <td>8.0</td>\n",
       "      <td>10.0</td>\n",
       "      <td>1.0</td>\n",
       "      <td>0.0</td>\n",
       "      <td>9.0</td>\n",
       "      <td>11.0</td>\n",
       "      <td>3.0</td>\n",
       "      <td>4.0</td>\n",
       "      <td>1.0</td>\n",
       "      <td>3.0</td>\n",
       "    </tr>\n",
       "    <tr>\n",
       "      <td>mean</td>\n",
       "      <td>78.000000</td>\n",
       "      <td>5.658065</td>\n",
       "      <td>1.0</td>\n",
       "      <td>1.0</td>\n",
       "      <td>1.0</td>\n",
       "      <td>1.0</td>\n",
       "      <td>1.0</td>\n",
       "      <td>1.0</td>\n",
       "      <td>1.0</td>\n",
       "      <td>1.0</td>\n",
       "      <td>NaN</td>\n",
       "      <td>1.0</td>\n",
       "      <td>1.0</td>\n",
       "      <td>1.0</td>\n",
       "      <td>1.0</td>\n",
       "      <td>1.0</td>\n",
       "      <td>1.0</td>\n",
       "    </tr>\n",
       "    <tr>\n",
       "      <td>std</td>\n",
       "      <td>44.888751</td>\n",
       "      <td>2.071572</td>\n",
       "      <td>0.0</td>\n",
       "      <td>0.0</td>\n",
       "      <td>0.0</td>\n",
       "      <td>0.0</td>\n",
       "      <td>0.0</td>\n",
       "      <td>0.0</td>\n",
       "      <td>0.0</td>\n",
       "      <td>NaN</td>\n",
       "      <td>NaN</td>\n",
       "      <td>0.0</td>\n",
       "      <td>0.0</td>\n",
       "      <td>0.0</td>\n",
       "      <td>0.0</td>\n",
       "      <td>NaN</td>\n",
       "      <td>0.0</td>\n",
       "    </tr>\n",
       "    <tr>\n",
       "      <td>min</td>\n",
       "      <td>1.000000</td>\n",
       "      <td>1.000000</td>\n",
       "      <td>1.0</td>\n",
       "      <td>1.0</td>\n",
       "      <td>1.0</td>\n",
       "      <td>1.0</td>\n",
       "      <td>1.0</td>\n",
       "      <td>1.0</td>\n",
       "      <td>1.0</td>\n",
       "      <td>1.0</td>\n",
       "      <td>NaN</td>\n",
       "      <td>1.0</td>\n",
       "      <td>1.0</td>\n",
       "      <td>1.0</td>\n",
       "      <td>1.0</td>\n",
       "      <td>1.0</td>\n",
       "      <td>1.0</td>\n",
       "    </tr>\n",
       "    <tr>\n",
       "      <td>25%</td>\n",
       "      <td>39.500000</td>\n",
       "      <td>4.000000</td>\n",
       "      <td>1.0</td>\n",
       "      <td>1.0</td>\n",
       "      <td>1.0</td>\n",
       "      <td>1.0</td>\n",
       "      <td>1.0</td>\n",
       "      <td>1.0</td>\n",
       "      <td>1.0</td>\n",
       "      <td>1.0</td>\n",
       "      <td>NaN</td>\n",
       "      <td>1.0</td>\n",
       "      <td>1.0</td>\n",
       "      <td>1.0</td>\n",
       "      <td>1.0</td>\n",
       "      <td>1.0</td>\n",
       "      <td>1.0</td>\n",
       "    </tr>\n",
       "    <tr>\n",
       "      <td>50%</td>\n",
       "      <td>78.000000</td>\n",
       "      <td>6.000000</td>\n",
       "      <td>1.0</td>\n",
       "      <td>1.0</td>\n",
       "      <td>1.0</td>\n",
       "      <td>1.0</td>\n",
       "      <td>1.0</td>\n",
       "      <td>1.0</td>\n",
       "      <td>1.0</td>\n",
       "      <td>1.0</td>\n",
       "      <td>NaN</td>\n",
       "      <td>1.0</td>\n",
       "      <td>1.0</td>\n",
       "      <td>1.0</td>\n",
       "      <td>1.0</td>\n",
       "      <td>1.0</td>\n",
       "      <td>1.0</td>\n",
       "    </tr>\n",
       "    <tr>\n",
       "      <td>75%</td>\n",
       "      <td>116.500000</td>\n",
       "      <td>7.000000</td>\n",
       "      <td>1.0</td>\n",
       "      <td>1.0</td>\n",
       "      <td>1.0</td>\n",
       "      <td>1.0</td>\n",
       "      <td>1.0</td>\n",
       "      <td>1.0</td>\n",
       "      <td>1.0</td>\n",
       "      <td>1.0</td>\n",
       "      <td>NaN</td>\n",
       "      <td>1.0</td>\n",
       "      <td>1.0</td>\n",
       "      <td>1.0</td>\n",
       "      <td>1.0</td>\n",
       "      <td>1.0</td>\n",
       "      <td>1.0</td>\n",
       "    </tr>\n",
       "    <tr>\n",
       "      <td>max</td>\n",
       "      <td>155.000000</td>\n",
       "      <td>9.000000</td>\n",
       "      <td>1.0</td>\n",
       "      <td>1.0</td>\n",
       "      <td>1.0</td>\n",
       "      <td>1.0</td>\n",
       "      <td>1.0</td>\n",
       "      <td>1.0</td>\n",
       "      <td>1.0</td>\n",
       "      <td>1.0</td>\n",
       "      <td>NaN</td>\n",
       "      <td>1.0</td>\n",
       "      <td>1.0</td>\n",
       "      <td>1.0</td>\n",
       "      <td>1.0</td>\n",
       "      <td>1.0</td>\n",
       "      <td>1.0</td>\n",
       "    </tr>\n",
       "  </tbody>\n",
       "</table>\n",
       "</div>"
      ],
      "text/plain": [
       "          EventID  ItemDifficulty  America  Europe  Asia  Africa  England  \\\n",
       "count  155.000000      155.000000     20.0    65.0  23.0     6.0     24.0   \n",
       "mean    78.000000        5.658065      1.0     1.0   1.0     1.0      1.0   \n",
       "std     44.888751        2.071572      0.0     0.0   0.0     0.0      0.0   \n",
       "min      1.000000        1.000000      1.0     1.0   1.0     1.0      1.0   \n",
       "25%     39.500000        4.000000      1.0     1.0   1.0     1.0      1.0   \n",
       "50%     78.000000        6.000000      1.0     1.0   1.0     1.0      1.0   \n",
       "75%    116.500000        7.000000      1.0     1.0   1.0     1.0      1.0   \n",
       "max    155.000000        9.000000      1.0     1.0   1.0     1.0      1.0   \n",
       "\n",
       "       France  Russian  Roman  Greek  Indian  Chinese  Science  Discovery  \\\n",
       "count     8.0     10.0    1.0    0.0     9.0     11.0      3.0        4.0   \n",
       "mean      1.0      1.0    1.0    NaN     1.0      1.0      1.0        1.0   \n",
       "std       0.0      0.0    NaN    NaN     0.0      0.0      0.0        0.0   \n",
       "min       1.0      1.0    1.0    NaN     1.0      1.0      1.0        1.0   \n",
       "25%       1.0      1.0    1.0    NaN     1.0      1.0      1.0        1.0   \n",
       "50%       1.0      1.0    1.0    NaN     1.0      1.0      1.0        1.0   \n",
       "75%       1.0      1.0    1.0    NaN     1.0      1.0      1.0        1.0   \n",
       "max       1.0      1.0    1.0    NaN     1.0      1.0      1.0        1.0   \n",
       "\n",
       "       Invention  Wars  \n",
       "count        1.0   3.0  \n",
       "mean         1.0   1.0  \n",
       "std          NaN   0.0  \n",
       "min          1.0   1.0  \n",
       "25%          1.0   1.0  \n",
       "50%          1.0   1.0  \n",
       "75%          1.0   1.0  \n",
       "max          1.0   1.0  "
      ]
     },
     "execution_count": 195,
     "metadata": {},
     "output_type": "execute_result"
    }
   ],
   "source": [
    "df.describe()"
   ]
  },
  {
   "cell_type": "code",
   "execution_count": 196,
   "metadata": {},
   "outputs": [
    {
     "data": {
      "text/plain": [
       "<matplotlib.axes._subplots.AxesSubplot at 0x203801e97c8>"
      ]
     },
     "execution_count": 196,
     "metadata": {},
     "output_type": "execute_result"
    },
    {
     "data": {
      "image/png": "[encoded data removed]",
      "text/plain": [
       "<Figure size 864x576 with 1 Axes>"
      ]
     },
     "metadata": {
      "needs_background": "light"
     },
     "output_type": "display_data"
    }
   ],
   "source": [
    "#fig, ax = plt.subplot(figsize=(10,10))\n",
    "plt.figure(figsize=(12,8))\n",
    "df['ItemDifficulty'].hist()"
   ]
  },
  {
   "cell_type": "code",
   "execution_count": 197,
   "metadata": {},
   "outputs": [],
   "source": [
    "diffcat  = pd.cut(df['ItemDifficulty'], bins=3, labels=['E',\"M\", 'H'])\n",
    "df['DiffCat'] = diffcat"
   ]
  },
  {
   "cell_type": "code",
   "execution_count": 198,
   "metadata": {},
   "outputs": [
    {
     "data": {
      "text/plain": [
       "M    67\n",
       "H    61\n",
       "E    27\n",
       "Name: ItemDifficulty, dtype: int64"
      ]
     },
     "execution_count": 198,
     "metadata": {},
     "output_type": "execute_result"
    }
   ],
   "source": [
    "diffcat.value_counts()"
   ]
  },
  {
   "cell_type": "markdown",
   "metadata": {},
   "source": [
    "# Add 3 new columns\n",
    "- AltsEasy\n",
    "- AltsMed\n",
    "- AltsHard"
   ]
  },
  {
   "cell_type": "code",
   "execution_count": 207,
   "metadata": {},
   "outputs": [],
   "source": [
    "def get_valid_alts(baseyr, perturbs):\n",
    "    \"\"\"\n",
    "    returns a list of valid distractors\n",
    "    \n",
    "    baseyr is the correct year. \n",
    "    @perturbs is a list of numbers to be added or subtracted\n",
    "    \"\"\"    \n",
    "    options = [baseyr + p for p in perturbs] + [baseyr + (-1*p) for p in perturbs]\n",
    "    return [dte for dte in options if (dte>0 and dte<2000)]\n",
    "\n",
    "\n",
    "def get_valid_BC_alts(baseyr, perturbs):\n",
    "    \"\"\"\n",
    "    returns a list of valid distractors\n",
    "    \n",
    "    baseyr is the correct year. \n",
    "    @perturbs is a list of numbers to be added or subtracted\n",
    "    \"\"\"    \n",
    "    perturbs = [1,2,5]\n",
    "    options = [baseyr + p for p in perturbs] + [baseyr + (-1*p) for p in perturbs]\n",
    "    return [dte for dte in options if (dte>0 and dte<2000)]\n",
    "\n",
    "    \n",
    "    \n",
    "diff_perturbs = [100,50, 20,10, 5, 2, 1]\n",
    "med_perturbs = [100, 20,10, 5]\n",
    "easy_perturbs = [200, 100,50,20]\n",
    "\n",
    "perturbationDict = {'Hard': diff_perturbs, 'Medium': med_perturbs, 'Easy': easy_perturbs}"
   ]
  },
  {
   "cell_type": "code",
   "execution_count": 208,
   "metadata": {},
   "outputs": [],
   "source": [
    "def get_alternatives(_str, difflevel='Hard'):\n",
    "    \n",
    "    \n",
    "    nums = [int(s) for s in _str.split() if s.isdigit()]\n",
    "    numstr = [s for s in _str.split() if s.isdigit()]\n",
    "    \n",
    "    options = None\n",
    "    perturbs = perturbationDict[difflevel]\n",
    "\n",
    "    if \"BC\" in _str:\n",
    "        if \"c.\" in _str: #circa BC, so give only approx alternatives.\n",
    "            _str = _str.replace('c.','')\n",
    "            _str = _str.replace('BC', '')\n",
    "            nums = [int(s) for s in _str.split() if s.isdigit()]\n",
    "            numstr = [s for s in _str.split() if s.isdigit()]\n",
    "            if len(nums)==1:\n",
    "                nstr = numstr[0]\n",
    "                if nstr[-3:] == '000':\n",
    "                    part = int(nstr[:-3])\n",
    "                    options = get_valid_BC_alts(part, perturbs)\n",
    "                    return [f' c. {x}000 BC' for x in options if x>0]\n",
    "\n",
    "                if nstr[-2:] == '00':\n",
    "                    part = int(nstr[:-2])\n",
    "                    options = get_valid_BC_alts(part, perturbs)\n",
    "                    return [f' c. {x}00 BC' for x in options if x >0]                \n",
    "                \n",
    "                if nstr[-1] == '0':\n",
    "                    part = int(nstr[:-1])\n",
    "                    options = get_valid_BC_alts(part, perturbs)\n",
    "                    return [f' c. {x}0 BC' for x in options if x >0]                            \n",
    "                else:\n",
    "                    numpart = int(nstr)\n",
    "                    options = get_valid_BC_alts(numpart, perturbs)\n",
    "                    return [f' c. {x} BC' for x in options if x >0]                            \n",
    "                    \n",
    "            \n",
    "        #case where there is BC but not circa\n",
    "        #Exact BC year is presumed known\n",
    "        elif len(nums)==1:\n",
    "            part = int(nums[0])\n",
    "            options = get_valid_alts(part, perturbs)\n",
    "            return [f'{x} BC' for x in options if x>0]        \n",
    "        \n",
    "        else: #something not right\n",
    "            print(f'something not right for {_str}')\n",
    "            return _str\n",
    "    \n",
    "    \n",
    "    elif 'c.AD' in _str:\n",
    "        if len(nums)==1:\n",
    "            a = nums[0]\n",
    "            options = get_valid_alts(a, perturbs)\n",
    "            return [f'c. {x} AD' for x in options]\n",
    "        else:\n",
    "            print(f'Error in {_str} {nums}')\n",
    "        \n",
    "    else: #AD single number event\n",
    "        nums = [int(s) for s in _str.split() if s.isdigit()]\n",
    "        if len(nums)==1:\n",
    "            numpart = nums[0]\n",
    "            options = get_valid_alts(numpart, perturbs)            \n",
    "                \n",
    "        return options"
   ]
  },
  {
   "cell_type": "code",
   "execution_count": 209,
   "metadata": {},
   "outputs": [
    {
     "name": "stdout",
     "output_type": "stream",
     "text": [
      "AltsMid Medium\n",
      "0 missing\n",
      " fewest options are 4\n",
      "AltsHard Hard\n",
      "0 missing\n",
      " fewest options are 5\n",
      "AltsEasy Easy\n",
      "0 missing\n",
      " fewest options are 4\n",
      "df now has 3 new columns with Alternatives\n"
     ]
    }
   ],
   "source": [
    "altuples = [('AltsMid', 'Medium'), ('AltsHard', 'Hard'), ('AltsEasy', 'Easy') ]\n",
    "\n",
    "for a in altuples:\n",
    "    col, lvl = a\n",
    "    print(col, lvl)\n",
    "    df[col] = df['Date'].apply(get_alternatives, difflevel=lvl)\n",
    "    print(f'{df[col].isnull().sum()} missing')\n",
    "    fewest_options = df[col].apply(len).min()\n",
    "    print(f' fewest options are {fewest_options}')\n",
    "    \n",
    "print('df now has 3 new columns with Alternatives')"
   ]
  },
  {
   "cell_type": "code",
   "execution_count": 210,
   "metadata": {},
   "outputs": [
    {
     "data": {
      "text/html": [
       "<div>\n",
       "<style scoped>\n",
       "    .dataframe tbody tr th:only-of-type {\n",
       "        vertical-align: middle;\n",
       "    }\n",
       "\n",
       "    .dataframe tbody tr th {\n",
       "        vertical-align: top;\n",
       "    }\n",
       "\n",
       "    .dataframe thead th {\n",
       "        text-align: right;\n",
       "    }\n",
       "</style>\n",
       "<table border=\"1\" class=\"dataframe\">\n",
       "  <thead>\n",
       "    <tr style=\"text-align: right;\">\n",
       "      <th></th>\n",
       "      <th>Date</th>\n",
       "      <th>AltsEasy</th>\n",
       "    </tr>\n",
       "  </thead>\n",
       "  <tbody>\n",
       "    <tr>\n",
       "      <td>125</td>\n",
       "      <td>1961</td>\n",
       "      <td>[1981, 1761, 1861, 1911, 1941]</td>\n",
       "    </tr>\n",
       "    <tr>\n",
       "      <td>32</td>\n",
       "      <td>711</td>\n",
       "      <td>[911, 811, 761, 731, 511, 611, 661, 691]</td>\n",
       "    </tr>\n",
       "    <tr>\n",
       "      <td>38</td>\n",
       "      <td>1088</td>\n",
       "      <td>[1288, 1188, 1138, 1108, 888, 988, 1038, 1068]</td>\n",
       "    </tr>\n",
       "    <tr>\n",
       "      <td>96</td>\n",
       "      <td>1917</td>\n",
       "      <td>[1967, 1937, 1717, 1817, 1867, 1897]</td>\n",
       "    </tr>\n",
       "    <tr>\n",
       "      <td>87</td>\n",
       "      <td>1893</td>\n",
       "      <td>[1993, 1943, 1913, 1693, 1793, 1843, 1873]</td>\n",
       "    </tr>\n",
       "  </tbody>\n",
       "</table>\n",
       "</div>"
      ],
      "text/plain": [
       "     Date                                        AltsEasy\n",
       "125  1961                  [1981, 1761, 1861, 1911, 1941]\n",
       "32    711        [911, 811, 761, 731, 511, 611, 661, 691]\n",
       "38   1088  [1288, 1188, 1138, 1108, 888, 988, 1038, 1068]\n",
       "96   1917            [1967, 1937, 1717, 1817, 1867, 1897]\n",
       "87   1893      [1993, 1943, 1913, 1693, 1793, 1843, 1873]"
      ]
     },
     "execution_count": 210,
     "metadata": {},
     "output_type": "execute_result"
    }
   ],
   "source": [
    "pd.set_option('display.max_colwidth', 120)\n",
    "df[['Date', col]].sample(5)"
   ]
  },
  {
   "cell_type": "code",
   "execution_count": 212,
   "metadata": {},
   "outputs": [
    {
     "data": {
      "text/plain": [
       "137    [1780, 1880, 1930, 1960]\n",
       "138    [1782, 1882, 1932, 1962]\n",
       "139    [1783, 1883, 1933, 1963]\n",
       "140    [1785, 1885, 1935, 1965]\n",
       "141    [1786, 1886, 1936, 1966]\n",
       "142    [1787, 1887, 1937, 1967]\n",
       "143    [1788, 1888, 1938, 1968]\n",
       "144    [1789, 1889, 1939, 1969]\n",
       "145    [1789, 1889, 1939, 1969]\n",
       "146    [1790, 1890, 1940, 1970]\n",
       "147    [1791, 1891, 1941, 1971]\n",
       "148    [1793, 1893, 1943, 1973]\n",
       "149    [1794, 1894, 1944, 1974]\n",
       "150    [1795, 1895, 1945, 1975]\n",
       "151    [1796, 1896, 1946, 1976]\n",
       "152    [1797, 1897, 1947, 1977]\n",
       "153    [1798, 1898, 1948, 1978]\n",
       "154    [1799, 1899, 1949, 1979]\n",
       "Name: AltsEasy, dtype: object"
      ]
     },
     "execution_count": 212,
     "metadata": {},
     "output_type": "execute_result"
    }
   ],
   "source": [
    "# Just for visual inspections\n",
    "cond = (df[col].apply(len)==fewest_options)\n",
    "df[cond][col]"
   ]
  },
  {
   "cell_type": "markdown",
   "metadata": {},
   "source": [
    "-------\n",
    "# Save the events DB file"
   ]
  },
  {
   "cell_type": "code",
   "execution_count": 213,
   "metadata": {},
   "outputs": [
    {
     "name": "stdout",
     "output_type": "stream",
     "text": [
      "Today's date: 2022-03-05\n"
     ]
    }
   ],
   "source": [
    "from datetime import date\n",
    "\n",
    "today = date.today()\n",
    "print(f\"Today's date: {today}\")"
   ]
  },
  {
   "cell_type": "code",
   "execution_count": null,
   "metadata": {},
   "outputs": [],
   "source": []
  },
  {
   "cell_type": "code",
   "execution_count": 215,
   "metadata": {},
   "outputs": [
    {
     "name": "stdout",
     "output_type": "stream",
     "text": [
      "wrote file data/2022-03-05_eventsDB.csv\n"
     ]
    }
   ],
   "source": [
    "csvfilename = f'data/{today}_eventsDB.csv'\n",
    "df.to_csv(csvfilename, index=False);\n",
    "print(f'wrote file {csvfilename}')"
   ]
  },
  {
   "cell_type": "code",
   "execution_count": 7,
   "metadata": {},
   "outputs": [],
   "source": [
    "if 0:\n",
    "    row = df.sample(10).index\n",
    "    new = df.loc[row]['Date'].apply(get_alternatives)\n",
    "    pd.DataFrame(np.column_stack([df.loc[row]['Date'], new]))"
   ]
  },
  {
   "cell_type": "code",
   "execution_count": null,
   "metadata": {},
   "outputs": [],
   "source": []
  },
  {
   "cell_type": "code",
   "execution_count": 216,
   "metadata": {},
   "outputs": [],
   "source": [
    "#cut and paste this output to the file called: eventsDB.js\n",
    "df.T.to_json('data/backup_eventsDB_.js')"
   ]
  },
  {
   "cell_type": "code",
   "execution_count": 217,
   "metadata": {},
   "outputs": [],
   "source": [
    "bigstring = df.T.to_json()"
   ]
  },
  {
   "cell_type": "code",
   "execution_count": 218,
   "metadata": {},
   "outputs": [],
   "source": [
    "outJSfile = f'data/eventsDB.js'\n",
    "with open(outJSfile, \"w\") as text_file:\n",
    "    text_file.write('events = ' + bigstring)"
   ]
  },
  {
   "cell_type": "code",
   "execution_count": 219,
   "metadata": {},
   "outputs": [
    {
     "data": {
      "text/plain": [
       "Index(['EventID', 'Date', 'Event', 'Details', 'ItemDifficulty', 'Categories',\n",
       "       'America', 'Europe', 'Asia', 'Africa', 'England', 'France', 'Russian',\n",
       "       'Roman', 'Greek', 'Indian', 'Chinese', 'Science', 'Discovery',\n",
       "       'Invention', 'Wars', 'DiffCat', 'AltsMid', 'AltsHard', 'AltsEasy'],\n",
       "      dtype='object')"
      ]
     },
     "execution_count": 219,
     "metadata": {},
     "output_type": "execute_result"
    }
   ],
   "source": [
    "df.columns"
   ]
  },
  {
   "cell_type": "code",
   "execution_count": null,
   "metadata": {},
   "outputs": [],
   "source": []
  }
 ],
 "metadata": {
  "kernelspec": {
   "display_name": "Python 3",
   "language": "python",
   "name": "python3"
  },
  "language_info": {
   "codemirror_mode": {
    "name": "ipython",
    "version": 3
   },
   "file_extension": ".py",
   "mimetype": "text/x-python",
   "name": "python",
   "nbconvert_exporter": "python",
   "pygments_lexer": "ipython3",
   "version": "3.7.4"
  }
 },
 "nbformat": 4,
 "nbformat_minor": 4
}
