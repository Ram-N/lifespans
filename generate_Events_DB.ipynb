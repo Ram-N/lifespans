{
 "cells": [
  {
   "cell_type": "markdown",
   "metadata": {},
   "source": [
    "# GENERATE NEW EVENTS DB FILE"
   ]
  },
  {
   "cell_type": "code",
   "execution_count": 1,
   "metadata": {},
   "outputs": [],
   "source": [
    "import pandas as pd\n",
    "import numpy as np\n",
    "import json\n",
    "import os\n",
    "import matplotlib.pyplot as plt\n",
    "%matplotlib inline"
   ]
  },
  {
   "cell_type": "code",
   "execution_count": 2,
   "metadata": {},
   "outputs": [
    {
     "data": {
      "text/plain": [
       "['2022-03-13_eventsDB.csv',\n",
       " '2022-03-16_eventsDB.csv',\n",
       " 'adds1548_1554.csv',\n",
       " 'backup_eventsDB_.js',\n",
       " 'bkups',\n",
       " 'celebrity_deaths_4.csv',\n",
       " 'df_main.csv',\n",
       " 'economists_lifetimes.csv',\n",
       " 'eventsDB.js',\n",
       " 'eventsDB.test',\n",
       " 'eventsDB_.js',\n",
       " 'eventsWIP.xlsx',\n",
       " 'events_db.csv',\n",
       " 'events_master.csv',\n",
       " 'list_of_presidents_of_france-836j.csv',\n",
       " 'list_of_prime_ministers_of_uk-839j.csv',\n",
       " 'pantheon.tsv',\n",
       " 'philosophers.csv',\n",
       " 'README.md',\n",
       " 'US_Presidents.json',\n",
       " 'world_events.js',\n",
       " 'world_events.json',\n",
       " 'world_events.txt']"
      ]
     },
     "execution_count": 2,
     "metadata": {},
     "output_type": "execute_result"
    }
   ],
   "source": [
    "os.listdir('data')"
   ]
  },
  {
   "cell_type": "code",
   "execution_count": 3,
   "metadata": {
    "scrolled": true
   },
   "outputs": [],
   "source": [
    "master_file = 'data/events_master.csv'\n",
    "df = pd.read_csv(master_file, encoding = \"ISO-8859-1\")\n",
    "df = df.replace(r'^\\s+$', np.nan, regex=True) #get rid of unwanted blank spaces in cells..."
   ]
  },
  {
   "cell_type": "code",
   "execution_count": 4,
   "metadata": {},
   "outputs": [],
   "source": [
    "df['event'] = df['event'].str.strip()\n",
    "#df = df.drop(['Alternatives'], axis=1)"
   ]
  },
  {
   "cell_type": "code",
   "execution_count": 5,
   "metadata": {},
   "outputs": [
    {
     "name": "stdout",
     "output_type": "stream",
     "text": [
      "(183, 28) Index(['eventID', 'stem', 'event', 'details', 'wikipedia', 'mnemonic',\n",
      "       'itemDifficulty', 'categories', 'America', 'Europe', 'Asia', 'Africa',\n",
      "       'China', 'Discovery', 'Britain', 'France', 'Greek', 'India',\n",
      "       'Invention', 'MiddleEast', 'prehistory', 'Religion', 'Roman', 'Royalty',\n",
      "       'Russia', 'Science', 'Wars', 'World'],\n",
      "      dtype='object')\n"
     ]
    }
   ],
   "source": [
    "print(df.shape, df.columns)"
   ]
  },
  {
   "cell_type": "code",
   "execution_count": 6,
   "metadata": {},
   "outputs": [
    {
     "data": {
      "text/html": [
       "<div>\n",
       "<style scoped>\n",
       "    .dataframe tbody tr th:only-of-type {\n",
       "        vertical-align: middle;\n",
       "    }\n",
       "\n",
       "    .dataframe tbody tr th {\n",
       "        vertical-align: top;\n",
       "    }\n",
       "\n",
       "    .dataframe thead th {\n",
       "        text-align: right;\n",
       "    }\n",
       "</style>\n",
       "<table border=\"1\" class=\"dataframe\">\n",
       "  <thead>\n",
       "    <tr style=\"text-align: right;\">\n",
       "      <th></th>\n",
       "      <th>eventID</th>\n",
       "      <th>stem</th>\n",
       "      <th>event</th>\n",
       "      <th>details</th>\n",
       "      <th>wikipedia</th>\n",
       "      <th>mnemonic</th>\n",
       "      <th>itemDifficulty</th>\n",
       "      <th>categories</th>\n",
       "      <th>America</th>\n",
       "      <th>Europe</th>\n",
       "      <th>...</th>\n",
       "      <th>Invention</th>\n",
       "      <th>MiddleEast</th>\n",
       "      <th>prehistory</th>\n",
       "      <th>Religion</th>\n",
       "      <th>Roman</th>\n",
       "      <th>Royalty</th>\n",
       "      <th>Russia</th>\n",
       "      <th>Science</th>\n",
       "      <th>Wars</th>\n",
       "      <th>World</th>\n",
       "    </tr>\n",
       "  </thead>\n",
       "  <tbody>\n",
       "    <tr>\n",
       "      <td>80</td>\n",
       "      <td>81</td>\n",
       "      <td>1803</td>\n",
       "      <td>Start of the Lewis &amp; Clark expedition, in Amer...</td>\n",
       "      <td>The Lewis and Clark Expedition from August 31,...</td>\n",
       "      <td>https://en.wikipedia.org/wiki/Lewis_and_Clark_...</td>\n",
       "      <td>It took exactly 30 years after America indepen...</td>\n",
       "      <td>4.0</td>\n",
       "      <td>[Expeditions, Firsts, ]</td>\n",
       "      <td>1</td>\n",
       "      <td>NaN</td>\n",
       "      <td>...</td>\n",
       "      <td>NaN</td>\n",
       "      <td>NaN</td>\n",
       "      <td>NaN</td>\n",
       "      <td>NaN</td>\n",
       "      <td>NaN</td>\n",
       "      <td>NaN</td>\n",
       "      <td>NaN</td>\n",
       "      <td>NaN</td>\n",
       "      <td>NaN</td>\n",
       "      <td>NaN</td>\n",
       "    </tr>\n",
       "    <tr>\n",
       "      <td>119</td>\n",
       "      <td>119</td>\n",
       "      <td>1945</td>\n",
       "      <td>End of Second World War;</td>\n",
       "      <td>NaN</td>\n",
       "      <td>NaN</td>\n",
       "      <td>NaN</td>\n",
       "      <td>1.0</td>\n",
       "      <td>[Wars, ]</td>\n",
       "      <td>NaN</td>\n",
       "      <td>1.0</td>\n",
       "      <td>...</td>\n",
       "      <td>NaN</td>\n",
       "      <td>NaN</td>\n",
       "      <td>NaN</td>\n",
       "      <td>NaN</td>\n",
       "      <td>NaN</td>\n",
       "      <td>NaN</td>\n",
       "      <td>NaN</td>\n",
       "      <td>NaN</td>\n",
       "      <td>NaN</td>\n",
       "      <td>NaN</td>\n",
       "    </tr>\n",
       "    <tr>\n",
       "      <td>14</td>\n",
       "      <td>15</td>\n",
       "      <td>327 BC</td>\n",
       "      <td>Empire of Alexander the Great reaches into Ind...</td>\n",
       "      <td>NaN</td>\n",
       "      <td>NaN</td>\n",
       "      <td>NaN</td>\n",
       "      <td>6.0</td>\n",
       "      <td>NaN</td>\n",
       "      <td>NaN</td>\n",
       "      <td>NaN</td>\n",
       "      <td>...</td>\n",
       "      <td>NaN</td>\n",
       "      <td>NaN</td>\n",
       "      <td>1.0</td>\n",
       "      <td>NaN</td>\n",
       "      <td>NaN</td>\n",
       "      <td>NaN</td>\n",
       "      <td>NaN</td>\n",
       "      <td>NaN</td>\n",
       "      <td>NaN</td>\n",
       "      <td>NaN</td>\n",
       "    </tr>\n",
       "  </tbody>\n",
       "</table>\n",
       "<p>3 rows × 28 columns</p>\n",
       "</div>"
      ],
      "text/plain": [
       "     eventID    stem                                              event  \\\n",
       "80        81    1803  Start of the Lewis & Clark expedition, in Amer...   \n",
       "119      119    1945                           End of Second World War;   \n",
       "14        15  327 BC  Empire of Alexander the Great reaches into Ind...   \n",
       "\n",
       "                                               details  \\\n",
       "80   The Lewis and Clark Expedition from August 31,...   \n",
       "119                                                NaN   \n",
       "14                                                 NaN   \n",
       "\n",
       "                                             wikipedia  \\\n",
       "80   https://en.wikipedia.org/wiki/Lewis_and_Clark_...   \n",
       "119                                                NaN   \n",
       "14                                                 NaN   \n",
       "\n",
       "                                              mnemonic  itemDifficulty  \\\n",
       "80   It took exactly 30 years after America indepen...             4.0   \n",
       "119                                                NaN             1.0   \n",
       "14                                                 NaN             6.0   \n",
       "\n",
       "                  categories America  Europe  ... Invention  MiddleEast  \\\n",
       "80   [Expeditions, Firsts, ]       1     NaN  ...       NaN         NaN   \n",
       "119                 [Wars, ]     NaN     1.0  ...       NaN         NaN   \n",
       "14                       NaN     NaN     NaN  ...       NaN         NaN   \n",
       "\n",
       "    prehistory  Religion Roman  Royalty  Russia  Science  Wars  World  \n",
       "80         NaN       NaN   NaN      NaN     NaN      NaN   NaN    NaN  \n",
       "119        NaN       NaN   NaN      NaN     NaN      NaN   NaN    NaN  \n",
       "14         1.0       NaN   NaN      NaN     NaN      NaN   NaN    NaN  \n",
       "\n",
       "[3 rows x 28 columns]"
      ]
     },
     "execution_count": 6,
     "metadata": {},
     "output_type": "execute_result"
    }
   ],
   "source": [
    "df.sample(3)"
   ]
  },
  {
   "cell_type": "code",
   "execution_count": 7,
   "metadata": {},
   "outputs": [],
   "source": [
    "# might need to do this for other columns as well.\n",
    "categories = ['Asia', 'China', 'Britain', 'Roman']\n",
    "for c in categories:\n",
    "    df = df.astype({c: 'float64'})"
   ]
  },
  {
   "cell_type": "code",
   "execution_count": 8,
   "metadata": {},
   "outputs": [
    {
     "data": {
      "text/html": [
       "<div>\n",
       "<style scoped>\n",
       "    .dataframe tbody tr th:only-of-type {\n",
       "        vertical-align: middle;\n",
       "    }\n",
       "\n",
       "    .dataframe tbody tr th {\n",
       "        vertical-align: top;\n",
       "    }\n",
       "\n",
       "    .dataframe thead th {\n",
       "        text-align: right;\n",
       "    }\n",
       "</style>\n",
       "<table border=\"1\" class=\"dataframe\">\n",
       "  <thead>\n",
       "    <tr style=\"text-align: right;\">\n",
       "      <th></th>\n",
       "      <th>stem</th>\n",
       "      <th>event</th>\n",
       "      <th>details</th>\n",
       "      <th>wikipedia</th>\n",
       "      <th>mnemonic</th>\n",
       "      <th>categories</th>\n",
       "      <th>America</th>\n",
       "    </tr>\n",
       "  </thead>\n",
       "  <tbody>\n",
       "    <tr>\n",
       "      <td>0</td>\n",
       "      <td>c.3500 BC</td>\n",
       "      <td>Invention of the wheel and plough in Mesopotam...</td>\n",
       "      <td>NaN</td>\n",
       "      <td>NaN</td>\n",
       "      <td>NaN</td>\n",
       "      <td>[prehistory,]</td>\n",
       "      <td>NaN</td>\n",
       "    </tr>\n",
       "    <tr>\n",
       "      <td>1</td>\n",
       "      <td>c.3200 BC</td>\n",
       "      <td>Invention of writing in Mesopotamia: the means...</td>\n",
       "      <td>NaN</td>\n",
       "      <td>NaN</td>\n",
       "      <td>NaN</td>\n",
       "      <td>[prehistory,]</td>\n",
       "      <td>NaN</td>\n",
       "    </tr>\n",
       "    <tr>\n",
       "      <td>2</td>\n",
       "      <td>c.3000 BC</td>\n",
       "      <td>Founding of the first cities in Sumeria (prese...</td>\n",
       "      <td>NaN</td>\n",
       "      <td>NaN</td>\n",
       "      <td>NaN</td>\n",
       "      <td>[prehistory,]</td>\n",
       "      <td>NaN</td>\n",
       "    </tr>\n",
       "    <tr>\n",
       "      <td>3</td>\n",
       "      <td>c.3000 BC</td>\n",
       "      <td>Building of the Great Pyramid.</td>\n",
       "      <td>NaN</td>\n",
       "      <td>NaN</td>\n",
       "      <td>NaN</td>\n",
       "      <td>[prehistory,]</td>\n",
       "      <td>NaN</td>\n",
       "    </tr>\n",
       "    <tr>\n",
       "      <td>4</td>\n",
       "      <td>c.1600 BC</td>\n",
       "      <td>Modern alphabet invented: the essential means ...</td>\n",
       "      <td>NaN</td>\n",
       "      <td>NaN</td>\n",
       "      <td>NaN</td>\n",
       "      <td>[prehistory,]</td>\n",
       "      <td>NaN</td>\n",
       "    </tr>\n",
       "    <tr>\n",
       "      <td>...</td>\n",
       "      <td>...</td>\n",
       "      <td>...</td>\n",
       "      <td>...</td>\n",
       "      <td>...</td>\n",
       "      <td>...</td>\n",
       "      <td>...</td>\n",
       "      <td>...</td>\n",
       "    </tr>\n",
       "    <tr>\n",
       "      <td>178</td>\n",
       "      <td>1996</td>\n",
       "      <td>Dolly the sheep becomes the first mammal to be...</td>\n",
       "      <td>Her birth proved that specialised cells could ...</td>\n",
       "      <td>https://en.wikipedia.org/wiki/Dolly_(sheep)</td>\n",
       "      <td>NaN</td>\n",
       "      <td>NaN</td>\n",
       "      <td>NaN</td>\n",
       "    </tr>\n",
       "    <tr>\n",
       "      <td>179</td>\n",
       "      <td>1997</td>\n",
       "      <td>Tony Blair back in power in UK. Mohd. Khatami ...</td>\n",
       "      <td>NaN</td>\n",
       "      <td>NaN</td>\n",
       "      <td>NaN</td>\n",
       "      <td>NaN</td>\n",
       "      <td>NaN</td>\n",
       "    </tr>\n",
       "    <tr>\n",
       "      <td>180</td>\n",
       "      <td>1998</td>\n",
       "      <td>Indonesian President Suharto resigns. Pakistan...</td>\n",
       "      <td>NaN</td>\n",
       "      <td>NaN</td>\n",
       "      <td>NaN</td>\n",
       "      <td>NaN</td>\n",
       "      <td>1</td>\n",
       "    </tr>\n",
       "    <tr>\n",
       "      <td>181</td>\n",
       "      <td>1999</td>\n",
       "      <td>G-15 Summit ends</td>\n",
       "      <td>NaN</td>\n",
       "      <td>NaN</td>\n",
       "      <td>NaN</td>\n",
       "      <td>NaN</td>\n",
       "      <td>NaN</td>\n",
       "    </tr>\n",
       "    <tr>\n",
       "      <td>182</td>\n",
       "      <td>1999</td>\n",
       "      <td>Yugoslavia accepts a peace plan for Kosovo.</td>\n",
       "      <td>NaN</td>\n",
       "      <td>NaN</td>\n",
       "      <td>NaN</td>\n",
       "      <td>NaN</td>\n",
       "      <td>NaN</td>\n",
       "    </tr>\n",
       "  </tbody>\n",
       "</table>\n",
       "<p>183 rows × 7 columns</p>\n",
       "</div>"
      ],
      "text/plain": [
       "          stem                                              event  \\\n",
       "0    c.3500 BC  Invention of the wheel and plough in Mesopotam...   \n",
       "1    c.3200 BC  Invention of writing in Mesopotamia: the means...   \n",
       "2    c.3000 BC  Founding of the first cities in Sumeria (prese...   \n",
       "3    c.3000 BC                     Building of the Great Pyramid.   \n",
       "4    c.1600 BC  Modern alphabet invented: the essential means ...   \n",
       "..         ...                                                ...   \n",
       "178       1996  Dolly the sheep becomes the first mammal to be...   \n",
       "179       1997  Tony Blair back in power in UK. Mohd. Khatami ...   \n",
       "180       1998  Indonesian President Suharto resigns. Pakistan...   \n",
       "181       1999                                   G-15 Summit ends   \n",
       "182       1999        Yugoslavia accepts a peace plan for Kosovo.   \n",
       "\n",
       "                                               details  \\\n",
       "0                                                  NaN   \n",
       "1                                                  NaN   \n",
       "2                                                  NaN   \n",
       "3                                                  NaN   \n",
       "4                                                  NaN   \n",
       "..                                                 ...   \n",
       "178  Her birth proved that specialised cells could ...   \n",
       "179                                                NaN   \n",
       "180                                                NaN   \n",
       "181                                                NaN   \n",
       "182                                                NaN   \n",
       "\n",
       "                                       wikipedia mnemonic     categories  \\\n",
       "0                                            NaN      NaN  [prehistory,]   \n",
       "1                                            NaN      NaN  [prehistory,]   \n",
       "2                                            NaN      NaN  [prehistory,]   \n",
       "3                                            NaN      NaN  [prehistory,]   \n",
       "4                                            NaN      NaN  [prehistory,]   \n",
       "..                                           ...      ...            ...   \n",
       "178  https://en.wikipedia.org/wiki/Dolly_(sheep)      NaN            NaN   \n",
       "179                                          NaN      NaN            NaN   \n",
       "180                                          NaN      NaN            NaN   \n",
       "181                                          NaN      NaN            NaN   \n",
       "182                                          NaN      NaN            NaN   \n",
       "\n",
       "    America  \n",
       "0       NaN  \n",
       "1       NaN  \n",
       "2       NaN  \n",
       "3       NaN  \n",
       "4       NaN  \n",
       "..      ...  \n",
       "178     NaN  \n",
       "179     NaN  \n",
       "180       1  \n",
       "181     NaN  \n",
       "182     NaN  \n",
       "\n",
       "[183 rows x 7 columns]"
      ]
     },
     "execution_count": 8,
     "metadata": {},
     "output_type": "execute_result"
    }
   ],
   "source": [
    "#verify\n",
    "df.select_dtypes('object')"
   ]
  },
  {
   "cell_type": "code",
   "execution_count": 9,
   "metadata": {},
   "outputs": [
    {
     "name": "stdout",
     "output_type": "stream",
     "text": [
      "(183, 7)\n"
     ]
    }
   ],
   "source": [
    "print(df.select_dtypes('object').shape)"
   ]
  },
  {
   "cell_type": "code",
   "execution_count": 10,
   "metadata": {},
   "outputs": [
    {
     "data": {
      "text/plain": [
       "array([nan, '1'], dtype=object)"
      ]
     },
     "execution_count": 10,
     "metadata": {},
     "output_type": "execute_result"
    }
   ],
   "source": [
    "col = \"America\"\n",
    "df[col].unique()\n",
    "#cond = (df[col]==\"1\")\n",
    "#df[cond]"
   ]
  },
  {
   "cell_type": "code",
   "execution_count": 11,
   "metadata": {},
   "outputs": [
    {
     "data": {
      "text/plain": [
       "Index(['eventID', 'itemDifficulty', 'Europe', 'Asia', 'Africa', 'China',\n",
       "       'Discovery', 'Britain', 'France', 'Greek', 'India', 'Invention',\n",
       "       'MiddleEast', 'prehistory', 'Religion', 'Roman', 'Royalty', 'Russia',\n",
       "       'Science', 'Wars', 'World'],\n",
       "      dtype='object')"
      ]
     },
     "execution_count": 11,
     "metadata": {},
     "output_type": "execute_result"
    }
   ],
   "source": [
    "df.describe().columns"
   ]
  },
  {
   "cell_type": "code",
   "execution_count": 12,
   "metadata": {},
   "outputs": [
    {
     "data": {
      "text/plain": [
       "eventID                                                       16764\n",
       "stem              c.3500 BCc.3200 BCc.3000 BCc.3000 BCc.1600 BCc...\n",
       "event             Invention of the wheel and plough in Mesopotam...\n",
       "itemDifficulty                                                  996\n",
       "Europe                                                           73\n",
       "Asia                                                             31\n",
       "Africa                                                            7\n",
       "China                                                            14\n",
       "Discovery                                                         6\n",
       "Britain                                                          27\n",
       "France                                                            8\n",
       "Greek                                                             3\n",
       "India                                                            12\n",
       "Invention                                                         1\n",
       "MiddleEast                                                        2\n",
       "prehistory                                                       21\n",
       "Religion                                                         16\n",
       "Roman                                                             7\n",
       "Royalty                                                           1\n",
       "Russia                                                           11\n",
       "Science                                                           8\n",
       "Wars                                                             15\n",
       "World                                                             4\n",
       "dtype: object"
      ]
     },
     "execution_count": 12,
     "metadata": {},
     "output_type": "execute_result"
    }
   ],
   "source": [
    "df.sum()"
   ]
  },
  {
   "cell_type": "code",
   "execution_count": 13,
   "metadata": {},
   "outputs": [],
   "source": [
    "diffcat  = pd.cut(df['itemDifficulty'], bins=3, labels=['E',\"M\", 'H'])\n",
    "df['diffCat'] = diffcat"
   ]
  },
  {
   "cell_type": "markdown",
   "metadata": {},
   "source": [
    "## Adding 2 Date based Columns\n",
    "### 1. YearNum\n",
    "### 2. TimePeriod (pd. cut)"
   ]
  },
  {
   "cell_type": "code",
   "execution_count": 14,
   "metadata": {},
   "outputs": [],
   "source": [
    "def getYearNum(x):\n",
    "    mult = 1\n",
    "    if \"BC\" in x:\n",
    "        x = x.replace('BC', '')                \n",
    "        mult = -1\n",
    "    x = x.replace('c.','') #handle circa\n",
    "    x = x.replace('AD','')\n",
    "        \n",
    "    try:\n",
    "        yr = mult * int(x)\n",
    "    except:\n",
    "        print('CONVERSION ERROR while attempting...')\n",
    "        print(x)\n",
    "        yr = x\n",
    "        \n",
    "    return(yr)"
   ]
  },
  {
   "cell_type": "code",
   "execution_count": 15,
   "metadata": {},
   "outputs": [],
   "source": [
    "df['YearNum'] = df['stem'].apply(getYearNum)"
   ]
  },
  {
   "cell_type": "code",
   "execution_count": 16,
   "metadata": {},
   "outputs": [],
   "source": [
    "bins = [-15000, 0, 500, 1000, 1500, 1700, 1800, 1900, 2100]\n",
    "labels = ['BCE', '0AD-500AD', '500AD-1000AD', '1000AD-1500AD', '1500AD-1700AD', '1700s', '1800s', '1900-Present']\n",
    "df['timePeriod'] = pd.cut(df['YearNum'], bins = bins, labels = labels)"
   ]
  },
  {
   "cell_type": "markdown",
   "metadata": {},
   "source": [
    "# Add 3 new columns\n",
    "- altsEasy\n",
    "- altsMed\n",
    "- altsHard"
   ]
  },
  {
   "cell_type": "code",
   "execution_count": 17,
   "metadata": {},
   "outputs": [],
   "source": [
    "def get_valid_alts(baseyr, perturbs):\n",
    "    \"\"\"\n",
    "    returns a list of valid distractors\n",
    "    \n",
    "    baseyr is the correct year. \n",
    "    @perturbs is a list of numbers to be added or subtracted\n",
    "    \"\"\"    \n",
    "    options = [baseyr + p for p in perturbs] + [baseyr + (-1*p) for p in perturbs]\n",
    "    return [dte for dte in options if (dte>0 and dte<2000)]\n",
    "\n",
    "\n",
    "def get_valid_BC_alts(baseyr, perturbs):\n",
    "    \"\"\"\n",
    "    returns a list of valid distractors\n",
    "    \n",
    "    baseyr is the correct year. \n",
    "    @perturbs is a list of numbers to be added or subtracted\n",
    "    \"\"\"    \n",
    "    perturbs = [1,2,5]\n",
    "    options = [baseyr + p for p in perturbs] + [baseyr + (-1*p) for p in perturbs]\n",
    "    return [dte for dte in options if (dte>0 and dte<2000)]\n",
    "\n",
    "    \n",
    "    \n",
    "diff_perturbs = [100,50, 20,10, 5, 2, 1]\n",
    "med_perturbs = [100, 20,10, 5]\n",
    "easy_perturbs = [200, 100,50,20]\n",
    "\n",
    "perturbationDict = {'Hard': diff_perturbs, 'Medium': med_perturbs, 'Easy': easy_perturbs}"
   ]
  },
  {
   "cell_type": "code",
   "execution_count": 18,
   "metadata": {},
   "outputs": [],
   "source": [
    "def get_alternatives(_str, difflevel='Hard'):\n",
    "    \n",
    "    \n",
    "    nums = [int(s) for s in _str.split() if s.isdigit()]\n",
    "    numstr = [s for s in _str.split() if s.isdigit()]\n",
    "    \n",
    "    options = None\n",
    "    perturbs = perturbationDict[difflevel]\n",
    "\n",
    "    if \"BC\" in _str:\n",
    "        if \"c.\" in _str: #circa BC, so give only approx alternatives.\n",
    "            _str = _str.replace('c.','')\n",
    "            _str = _str.replace('BC', '')\n",
    "            nums = [int(s) for s in _str.split() if s.isdigit()]\n",
    "            numstr = [s for s in _str.split() if s.isdigit()]\n",
    "            if len(nums)==1:\n",
    "                nstr = numstr[0]\n",
    "                if nstr[-3:] == '000':\n",
    "                    part = int(nstr[:-3])\n",
    "                    options = get_valid_BC_alts(part, perturbs)\n",
    "                    return [f' c. {x}000 BC' for x in options if x>0]\n",
    "\n",
    "                if nstr[-2:] == '00':\n",
    "                    part = int(nstr[:-2])\n",
    "                    options = get_valid_BC_alts(part, perturbs)\n",
    "                    return [f' c. {x}00 BC' for x in options if x >0]                \n",
    "                \n",
    "                if nstr[-1] == '0':\n",
    "                    part = int(nstr[:-1])\n",
    "                    options = get_valid_BC_alts(part, perturbs)\n",
    "                    return [f' c. {x}0 BC' for x in options if x >0]                            \n",
    "                else:\n",
    "                    numpart = int(nstr)\n",
    "                    options = get_valid_BC_alts(numpart, perturbs)\n",
    "                    return [f' c. {x} BC' for x in options if x >0]                            \n",
    "                    \n",
    "            \n",
    "        #case where there is BC but not circa\n",
    "        #Exact BC year is presumed known\n",
    "        elif len(nums)==1:\n",
    "            part = int(nums[0])\n",
    "            options = get_valid_alts(part, perturbs)\n",
    "            return [f'{x} BC' for x in options if x>0]        \n",
    "        \n",
    "        else: #something not right\n",
    "            print(f'something not right for {_str}')\n",
    "            return _str\n",
    "    \n",
    "    \n",
    "    elif 'c.AD' in _str:\n",
    "        if len(nums)==1:\n",
    "            a = nums[0]\n",
    "            options = get_valid_alts(a, perturbs)\n",
    "            return [f'c. {x} AD' for x in options]\n",
    "        else:\n",
    "            print(f'Error in {_str} {nums}')\n",
    "        \n",
    "    else: #AD single number event\n",
    "        nums = [int(s) for s in _str.split() if s.isdigit()]\n",
    "        if len(nums)==1:\n",
    "            numpart = nums[0]\n",
    "            options = get_valid_alts(numpart, perturbs)            \n",
    "                \n",
    "        return options"
   ]
  },
  {
   "cell_type": "code",
   "execution_count": 19,
   "metadata": {},
   "outputs": [
    {
     "name": "stdout",
     "output_type": "stream",
     "text": [
      "altsMid Medium\n",
      "0 missing\n",
      " fewest options are 4\n",
      "altsHard Hard\n",
      "0 missing\n",
      " fewest options are 5\n",
      "altsEasy Easy\n",
      "0 missing\n",
      " fewest options are 4\n",
      "df now has 3 new columns with Alternatives\n"
     ]
    }
   ],
   "source": [
    "altuples = [('altsMid', 'Medium'), ('altsHard', 'Hard'), ('altsEasy', 'Easy') ]\n",
    "\n",
    "for a in altuples:\n",
    "    col, lvl = a\n",
    "    print(col, lvl)\n",
    "    df[col] = df['stem'].apply(get_alternatives, difflevel=lvl)\n",
    "    print(f'{df[col].isnull().sum()} missing')\n",
    "    fewest_options = df[col].apply(len).min()\n",
    "    print(f' fewest options are {fewest_options}')\n",
    "    \n",
    "print('df now has 3 new columns with Alternatives')"
   ]
  },
  {
   "cell_type": "code",
   "execution_count": 20,
   "metadata": {},
   "outputs": [
    {
     "data": {
      "text/html": [
       "<div>\n",
       "<style scoped>\n",
       "    .dataframe tbody tr th:only-of-type {\n",
       "        vertical-align: middle;\n",
       "    }\n",
       "\n",
       "    .dataframe tbody tr th {\n",
       "        vertical-align: top;\n",
       "    }\n",
       "\n",
       "    .dataframe thead th {\n",
       "        text-align: right;\n",
       "    }\n",
       "</style>\n",
       "<table border=\"1\" class=\"dataframe\">\n",
       "  <thead>\n",
       "    <tr style=\"text-align: right;\">\n",
       "      <th></th>\n",
       "      <th>stem</th>\n",
       "      <th>altsEasy</th>\n",
       "    </tr>\n",
       "  </thead>\n",
       "  <tbody>\n",
       "    <tr>\n",
       "      <td>103</td>\n",
       "      <td>1911</td>\n",
       "      <td>[1961, 1931, 1711, 1811, 1861, 1891]</td>\n",
       "    </tr>\n",
       "    <tr>\n",
       "      <td>180</td>\n",
       "      <td>1998</td>\n",
       "      <td>[1798, 1898, 1948, 1978]</td>\n",
       "    </tr>\n",
       "    <tr>\n",
       "      <td>154</td>\n",
       "      <td>1978</td>\n",
       "      <td>[1998, 1778, 1878, 1928, 1958]</td>\n",
       "    </tr>\n",
       "    <tr>\n",
       "      <td>18</td>\n",
       "      <td>55 BC</td>\n",
       "      <td>[255 BC, 155 BC, 105 BC, 75 BC, 5 BC, 35 BC]</td>\n",
       "    </tr>\n",
       "    <tr>\n",
       "      <td>116</td>\n",
       "      <td>1939</td>\n",
       "      <td>[1989, 1959, 1739, 1839, 1889, 1919]</td>\n",
       "    </tr>\n",
       "  </tbody>\n",
       "</table>\n",
       "</div>"
      ],
      "text/plain": [
       "      stem                                      altsEasy\n",
       "103   1911          [1961, 1931, 1711, 1811, 1861, 1891]\n",
       "180   1998                      [1798, 1898, 1948, 1978]\n",
       "154   1978                [1998, 1778, 1878, 1928, 1958]\n",
       "18   55 BC  [255 BC, 155 BC, 105 BC, 75 BC, 5 BC, 35 BC]\n",
       "116   1939          [1989, 1959, 1739, 1839, 1889, 1919]"
      ]
     },
     "execution_count": 20,
     "metadata": {},
     "output_type": "execute_result"
    }
   ],
   "source": [
    "pd.set_option('display.max_colwidth', 120)\n",
    "df[['stem', col]].sample(5)"
   ]
  },
  {
   "cell_type": "code",
   "execution_count": 21,
   "metadata": {},
   "outputs": [
    {
     "data": {
      "text/plain": [
       "156    [1780, 1880, 1930, 1960]\n",
       "157    [1780, 1880, 1930, 1960]\n",
       "158    [1782, 1882, 1932, 1962]\n",
       "159    [1783, 1883, 1933, 1963]\n",
       "160    [1785, 1885, 1935, 1965]\n",
       "161    [1785, 1885, 1935, 1965]\n",
       "162    [1785, 1885, 1935, 1965]\n",
       "163    [1786, 1886, 1936, 1966]\n",
       "164    [1787, 1887, 1937, 1967]\n",
       "165    [1788, 1888, 1938, 1968]\n",
       "166    [1789, 1889, 1939, 1969]\n",
       "167    [1789, 1889, 1939, 1969]\n",
       "168    [1790, 1890, 1940, 1970]\n",
       "169    [1791, 1891, 1941, 1971]\n",
       "170    [1793, 1893, 1943, 1973]\n",
       "171    [1794, 1894, 1944, 1974]\n",
       "172    [1795, 1895, 1945, 1975]\n",
       "173    [1796, 1896, 1946, 1976]\n",
       "174    [1796, 1896, 1946, 1976]\n",
       "175    [1796, 1896, 1946, 1976]\n",
       "176    [1796, 1896, 1946, 1976]\n",
       "177    [1796, 1896, 1946, 1976]\n",
       "178    [1796, 1896, 1946, 1976]\n",
       "179    [1797, 1897, 1947, 1977]\n",
       "180    [1798, 1898, 1948, 1978]\n",
       "181    [1799, 1899, 1949, 1979]\n",
       "182    [1799, 1899, 1949, 1979]\n",
       "Name: altsEasy, dtype: object"
      ]
     },
     "execution_count": 21,
     "metadata": {},
     "output_type": "execute_result"
    }
   ],
   "source": [
    "# Just for visual inspections\n",
    "cond = (df[col].apply(len)==fewest_options)\n",
    "df[cond][col]"
   ]
  },
  {
   "cell_type": "markdown",
   "metadata": {},
   "source": [
    "-------\n",
    "# Save the events DB file"
   ]
  },
  {
   "cell_type": "code",
   "execution_count": 22,
   "metadata": {},
   "outputs": [
    {
     "name": "stdout",
     "output_type": "stream",
     "text": [
      "Today's date: 2022-03-17\n"
     ]
    }
   ],
   "source": [
    "from datetime import date\n",
    "\n",
    "today = date.today()\n",
    "print(f\"Today's date: {today}\")"
   ]
  },
  {
   "cell_type": "code",
   "execution_count": 23,
   "metadata": {},
   "outputs": [
    {
     "name": "stdout",
     "output_type": "stream",
     "text": [
      "wrote file data/2022-03-17_eventsDB.csv\n"
     ]
    }
   ],
   "source": [
    "csvfilename = f'data/{today}_eventsDB.csv'\n",
    "df.to_csv(csvfilename, index=False);\n",
    "print(f'wrote file {csvfilename}')"
   ]
  },
  {
   "cell_type": "code",
   "execution_count": 24,
   "metadata": {},
   "outputs": [],
   "source": [
    "if 0:\n",
    "    row = df.sample(10).index\n",
    "    new = df.loc[row]['Date'].apply(get_alternatives)\n",
    "    pd.DataFrame(np.column_stack([df.loc[row]['Date'], new]))"
   ]
  },
  {
   "cell_type": "code",
   "execution_count": 25,
   "metadata": {},
   "outputs": [],
   "source": [
    "#cut and paste this output to the file called: eventsDB.js\n",
    "df.T.to_json('data/backup_eventsDB_.js')"
   ]
  },
  {
   "cell_type": "code",
   "execution_count": 26,
   "metadata": {},
   "outputs": [],
   "source": [
    "bigstring = df.T.to_json()"
   ]
  },
  {
   "cell_type": "code",
   "execution_count": 27,
   "metadata": {},
   "outputs": [],
   "source": [
    "outJSfile = f'data/eventsDB.js'\n",
    "with open(outJSfile, \"w\") as text_file:\n",
    "    text_file.write('events = ' + bigstring)"
   ]
  },
  {
   "cell_type": "code",
   "execution_count": 28,
   "metadata": {},
   "outputs": [
    {
     "name": "stdout",
     "output_type": "stream",
     "text": [
      "True\n",
      "True\n",
      "True\n",
      "True\n",
      "True\n",
      "True\n",
      "True\n"
     ]
    }
   ],
   "source": [
    "added_columns = ['YearNum', 'timePeriod',\n",
    "       'altsMid', 'altsHard', 'altsEasy', 'stem', 'diffCat']\n",
    "for c in added_columns:\n",
    "    print(c in df.columns)"
   ]
  },
  {
   "cell_type": "code",
   "execution_count": 29,
   "metadata": {},
   "outputs": [
    {
     "data": {
      "text/plain": [
       "(183, 34)"
      ]
     },
     "execution_count": 29,
     "metadata": {},
     "output_type": "execute_result"
    }
   ],
   "source": [
    "df.shape"
   ]
  },
  {
   "cell_type": "markdown",
   "metadata": {},
   "source": [
    "----\n",
    "# Plotting"
   ]
  },
  {
   "cell_type": "code",
   "execution_count": 30,
   "metadata": {},
   "outputs": [
    {
     "data": {
      "text/plain": [
       "<matplotlib.axes._subplots.AxesSubplot at 0x22c0aff16c8>"
      ]
     },
     "execution_count": 30,
     "metadata": {},
     "output_type": "execute_result"
    },
    {
     "data": {
      "image/png": "[encoded data removed]",
      "text/plain": [
       "<Figure size 432x288 with 1 Axes>"
      ]
     },
     "metadata": {
      "needs_background": "light"
     },
     "output_type": "display_data"
    }
   ],
   "source": [
    "df['YearNum'].diff().hist()"
   ]
  },
  {
   "cell_type": "code",
   "execution_count": 31,
   "metadata": {
    "scrolled": true
   },
   "outputs": [
    {
     "data": {
      "text/plain": [
       "M    89\n",
       "E    49\n",
       "H    38\n",
       "Name: itemDifficulty, dtype: int64"
      ]
     },
     "execution_count": 31,
     "metadata": {},
     "output_type": "execute_result"
    }
   ],
   "source": [
    "diffcat.value_counts()"
   ]
  },
  {
   "cell_type": "code",
   "execution_count": 32,
   "metadata": {},
   "outputs": [
    {
     "data": {
      "text/plain": [
       "<matplotlib.axes._subplots.AxesSubplot at 0x22c1b6c3048>"
      ]
     },
     "execution_count": 32,
     "metadata": {},
     "output_type": "execute_result"
    },
    {
     "data": {
      "image/png": "[encoded data removed]",
      "text/plain": [
       "<Figure size 432x288 with 1 Axes>"
      ]
     },
     "metadata": {
      "needs_background": "light"
     },
     "output_type": "display_data"
    }
   ],
   "source": [
    "diffcat.hist()"
   ]
  },
  {
   "cell_type": "code",
   "execution_count": 33,
   "metadata": {},
   "outputs": [
    {
     "data": {
      "text/plain": [
       "<matplotlib.axes._subplots.AxesSubplot at 0x22c1ef57688>"
      ]
     },
     "execution_count": 33,
     "metadata": {},
     "output_type": "execute_result"
    },
    {
     "data": {
      "image/png": "[encoded data removed]",
      "text/plain": [
       "<Figure size 864x576 with 1 Axes>"
      ]
     },
     "metadata": {
      "needs_background": "light"
     },
     "output_type": "display_data"
    }
   ],
   "source": [
    "#fig, ax = plt.subplot(figsize=(10,10))\n",
    "plt.figure(figsize=(12,8))\n",
    "df['itemDifficulty'].hist()"
   ]
  },
  {
   "cell_type": "code",
   "execution_count": null,
   "metadata": {},
   "outputs": [],
   "source": []
  },
  {
   "cell_type": "code",
   "execution_count": null,
   "metadata": {},
   "outputs": [],
   "source": []
  }
 ],
 "metadata": {
  "kernelspec": {
   "display_name": "Python 3",
   "language": "python",
   "name": "python3"
  },
  "language_info": {
   "codemirror_mode": {
    "name": "ipython",
    "version": 3
   },
   "file_extension": ".py",
   "mimetype": "text/x-python",
   "name": "python",
   "nbconvert_exporter": "python",
   "pygments_lexer": "ipython3",
   "version": "3.7.4"
  }
 },
 "nbformat": 4,
 "nbformat_minor": 4
}
